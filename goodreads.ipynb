{
 "cells": [
  {
   "cell_type": "markdown",
   "id": "1639ac85",
   "metadata": {},
   "source": [
    "# Goodreads analysis"
   ]
  },
  {
   "cell_type": "markdown",
   "id": "7709d314",
   "metadata": {},
   "source": [
    "This is an analysis beased on a dataset of Goodreads data downloaded from Kaggle.\n",
    "This data set contains information of book title, author, average rating, isbn, languange, pages, numbers of reviews received, number of text review recieved, publication day, and publisher.\n",
    "Ccolumn names are 'bookID', 'title', 'authors', 'average_rating', 'isbn', 'isbn13', 'language_code', 'num_pages', 'ratings_count', 'text_reviews_count', 'publication_date', 'publisher'.\n",
    "\n",
    "The key questions I would like to answer through analysis include:\n",
    "1. More and more books published? Changes on numbers of books published through time;\n",
    "2. Most productive author: The author has the highest number of published books;\n",
    "3. Which book is the best? The book has the highest average rating (with and without adjusted by number of reviews);\n",
    "4. Which book received the most reviews?\n",
    "5. Underrated gem: which book has a high rating but few reviews;\n",
    "6. Which author has a overall highest rating?\n",
    "7. Is there a correlation between the length of book and rating/number of reviews\n",
    "To answer the above questions, I will first check general statistic of this database, then address questions one by one.\n"
   ]
  },
  {
   "cell_type": "code",
   "execution_count": 1,
   "id": "155ab015",
   "metadata": {},
   "outputs": [],
   "source": [
    "import pandas as pd\n",
    "import numpy as np\n",
    "import matplotlib.pyplot as plt"
   ]
  },
  {
   "cell_type": "code",
   "execution_count": 2,
   "id": "a4c446bf",
   "metadata": {},
   "outputs": [
    {
     "name": "stdout",
     "output_type": "stream",
     "text": [
      "Index(['bookID', 'title', 'authors', 'average_rating', 'isbn', 'isbn13',\n",
      "       'language_code', '  num_pages', 'ratings_count', 'text_reviews_count',\n",
      "       'publication_date', 'publisher', 'Unnamed: 12'],\n",
      "      dtype='object')\n"
     ]
    }
   ],
   "source": [
    "#import the dataset as dataframe\n",
    "file_path = r\"C:\\Users\\yama4971\\Desktop\\kaggle\\books.xlsx\"\n",
    "df = pd.read_excel(file_path)\n",
    "print(df.columns)"
   ]
  },
  {
   "cell_type": "code",
   "execution_count": 3,
   "id": "bd797161",
   "metadata": {},
   "outputs": [
    {
     "name": "stdout",
     "output_type": "stream",
     "text": [
      "Index(['bookID', 'title', 'authors', 'average_rating', 'isbn', 'isbn13',\n",
      "       'language_code', 'num_pages', 'ratings_count', 'text_reviews_count',\n",
      "       'publication_date', 'publisher'],\n",
      "      dtype='object')\n"
     ]
    }
   ],
   "source": [
    "#delete the space in column names and droped the last empty column\n",
    "df.columns = df.columns.str.strip()\n",
    "df = df.drop(df.columns[-1], axis=1)\n",
    "print(df.columns)"
   ]
  },
  {
   "cell_type": "code",
   "execution_count": 4,
   "id": "4bd8da08",
   "metadata": {},
   "outputs": [
    {
     "name": "stdout",
     "output_type": "stream",
     "text": [
      "Number of rows excluding column names: 11127\n"
     ]
    }
   ],
   "source": [
    "#count how many records \n",
    "num_rows = len(df.index)\n",
    "print(\"Number of rows excluding column names:\", num_rows)"
   ]
  },
  {
   "cell_type": "code",
   "execution_count": 5,
   "id": "d790bf55",
   "metadata": {},
   "outputs": [
    {
     "name": "stdout",
     "output_type": "stream",
     "text": [
      "False\n"
     ]
    }
   ],
   "source": [
    "#check if any NA value exsits\n",
    "any_missing_values = df.isna().any().any()\n",
    "print(any_missing_values)"
   ]
  },
  {
   "cell_type": "code",
   "execution_count": 6,
   "id": "2c2809ca",
   "metadata": {},
   "outputs": [
    {
     "name": "stdout",
     "output_type": "stream",
     "text": [
      "       bookID                                              title  \\\n",
      "9          14  The Hitchhiker's Guide to the Galaxy (Hitchhik...   \n",
      "12         21               A Short History of Nearly Everything   \n",
      "13         22                        Bill Bryson's African Diary   \n",
      "22         31  The Lord of the Rings (The Lord of the Rings  ...   \n",
      "23         34  The Fellowship of the Ring (The Lord of the Ri...   \n",
      "...       ...                                                ...   \n",
      "11046   45314                                 Kafka on the Shore   \n",
      "11047   45316                                 Sputnik Sweetheart   \n",
      "11066   45414         The Locked Room (The New York Trilogy  #3)   \n",
      "11084   45485          The Subtle Knife (His Dark Materials  #2)   \n",
      "11100   45536                                        On the Road   \n",
      "\n",
      "                              authors average_rating        isbn  \\\n",
      "9                       Douglas Adams           4.22  1400052920   \n",
      "12                        Bill Bryson           4.21  076790818X   \n",
      "13                        Bill Bryson           3.44   767915062   \n",
      "22                     J.R.R. Tolkien            4.5   618517650   \n",
      "23                     J.R.R. Tolkien           4.36   618346252   \n",
      "...                               ...            ...         ...   \n",
      "11046  Haruki Murakami/Philip Gabriel           4.14  1400043662   \n",
      "11047  Haruki Murakami/Philip Gabriel           3.83   375411690   \n",
      "11066                     Paul Auster           3.89   140097368   \n",
      "11084                  Philip Pullman           4.13   807210471   \n",
      "11100       Jack Kerouac/Ann Charters           3.63   142437255   \n",
      "\n",
      "              isbn13 language_code num_pages  ratings_count  \\\n",
      "9      9780000000000           eng       215           4930   \n",
      "12     9780000000000           eng       544         248558   \n",
      "13     9780000000000           eng        55           7270   \n",
      "22     9780000000000           eng      1184           1710   \n",
      "23     9780000000000           eng       398        2128944   \n",
      "...              ...           ...       ...            ...   \n",
      "11046  9780000000000         en-US       436           1989   \n",
      "11047  9780000000000           eng       210            582   \n",
      "11066  9780000000000         en-US       192             62   \n",
      "11084  9780000000000           eng         8             39   \n",
      "11100  9780000000000         en-US       307           3271   \n",
      "\n",
      "       text_reviews_count     publication_date                  publisher  \n",
      "9                     460  2004-08-03 00:00:00                      Crown  \n",
      "12                   9396  2004-09-14 00:00:00             Broadway Books  \n",
      "13                    499  2002-12-03 00:00:00             Broadway Books  \n",
      "22                     91  2004-10-21 00:00:00  Houghton Mifflin Harcourt  \n",
      "23                  13670  2003-09-05 00:00:00  Houghton Mifflin Harcourt  \n",
      "...                   ...                  ...                        ...  \n",
      "11046                 315  2005-01-26 00:00:00     Knopf Publishing Group  \n",
      "11047                  92  2001-04-24 00:00:00            Alfred A. Knopf  \n",
      "11066                   3  1988-01-05 00:00:00              Penguin Books  \n",
      "11084                   8  2000-01-28 00:00:00          Listening Library  \n",
      "11100                 342  2006-01-03 00:00:00           Penguin Classics  \n",
      "\n",
      "[574 rows x 12 columns]\n",
      "1262\n"
     ]
    }
   ],
   "source": [
    "#find duplicated books existing in the dataset, filter by book title and author\n",
    "duplicated_records = df[df.duplicated(subset=['title', 'authors'], keep=False)]\n",
    "num_duplicated_records = df['title'].duplicated(keep=False).sum()\n",
    "print(duplicated_records)\n",
    "print(num_duplicated_records)"
   ]
  },
  {
   "cell_type": "code",
   "execution_count": 7,
   "id": "3b406097",
   "metadata": {},
   "outputs": [
    {
     "name": "stdout",
     "output_type": "stream",
     "text": [
      "Number of rows after filtered 10816\n"
     ]
    }
   ],
   "source": [
    "#for duplicated record, only keep the record with the highest number of ratings_count\n",
    "sorted_df = df.sort_values(by='ratings_count', ascending=False)\n",
    "duplicated_mask = sorted_df.duplicated(subset=['title', 'authors'], keep='first')\n",
    "filtered_df = sorted_df[~duplicated_mask]\n",
    "num_rows_filtered = len(filtered_df.index)\n",
    "print(\"Number of rows after filtered\", num_rows_filtered)"
   ]
  },
  {
   "cell_type": "code",
   "execution_count": 8,
   "id": "aa1e0b89",
   "metadata": {},
   "outputs": [
    {
     "name": "stdout",
     "output_type": "stream",
     "text": [
      "eng              8679\n",
      "en-US            1360\n",
      "spa               207\n",
      "en-GB             198\n",
      "fre               140\n",
      "ger                96\n",
      "jpn                46\n",
      "mul                19\n",
      "zho                14\n",
      "grc                11\n",
      "por                10\n",
      "en-CA               7\n",
      "ita                 5\n",
      "9780000000000       4\n",
      "enm                 3\n",
      "lat                 3\n",
      "swe                 2\n",
      "rus                 2\n",
      "tur                 1\n",
      "ara                 1\n",
      "ale                 1\n",
      "nor                 1\n",
      "nl                  1\n",
      "glg                 1\n",
      "msa                 1\n",
      "gla                 1\n",
      "wel                 1\n",
      "srp                 1\n",
      "Name: language_code, dtype: int64\n"
     ]
    }
   ],
   "source": [
    "#from now on, I will only use the filtered dataframe for analysis, in total 10816 books\n",
    "#count how many languages of books involved\n",
    "language_counts = filtered_df['language_code'].value_counts()\n",
    "print(language_counts)"
   ]
  },
  {
   "cell_type": "code",
   "execution_count": 9,
   "id": "2c01a6c4",
   "metadata": {},
   "outputs": [
    {
     "name": "stdout",
     "output_type": "stream",
     "text": [
      "      bookID                                              title  \\\n",
      "4702   16914                  The Tolkien Fan's Medieval Reader   \n",
      "5877   22128                     Patriots (The Coming Collapse)   \n",
      "3348   12224  Streetcar Suburbs: The Process of Growth in Bo...   \n",
      "8979   34889  Brown's Star Atlas: Showing All The Bright Sta...   \n",
      "\n",
      "                                       authors  \\\n",
      "4702  David E. Smith (Turgon of TheOneRing.net   \n",
      "5877                              James Wesley   \n",
      "3348                           Sam Bass Warner   \n",
      "8979                                     Brown   \n",
      "\n",
      "                                         average_rating  isbn      isbn13  \\\n",
      "4702   one of the founding members of this Tolkien w...  3.58  1593600119   \n",
      "5877                                             Rawles  3.63  156384155X   \n",
      "3348                                  Jr./Sam B. Warner  3.58   674842111   \n",
      "8979                                     Son & Ferguson     0   851742718   \n",
      "\n",
      "      language_code num_pages  ratings_count  text_reviews_count  \\\n",
      "4702  9780000000000       eng            400                  26   \n",
      "5877  9780000000000       eng            342                  38   \n",
      "3348  9780000000000     en-US            236                  61   \n",
      "8979  9780000000000       eng             49                   0   \n",
      "\n",
      "     publication_date            publisher  \n",
      "4702                4  2004-04-06 00:00:00  \n",
      "5877                4  1999-01-15 00:00:00  \n",
      "3348                6  2004-04-20 00:00:00  \n",
      "8979                0  1977-05-01 00:00:00  \n"
     ]
    }
   ],
   "source": [
    "#search for rows with the language code being 9780000000000 \n",
    "rows_with_wrong_language = filtered_df[filtered_df['language_code'] == 9780000000000]\n",
    "print(rows_with_wrong_language)"
   ]
  },
  {
   "cell_type": "code",
   "execution_count": 10,
   "id": "7ff4153e",
   "metadata": {
    "scrolled": true
   },
   "outputs": [
    {
     "name": "stdout",
     "output_type": "stream",
     "text": [
      "      bookID                                              title  \\\n",
      "4702   16914                  The Tolkien Fan's Medieval Reader   \n",
      "5877   22128                     Patriots (The Coming Collapse)   \n",
      "3348   12224  Streetcar Suburbs: The Process of Growth in Bo...   \n",
      "8979   34889  Brown's Star Atlas: Showing All The Bright Sta...   \n",
      "\n",
      "                                       authors average_rating        isbn  \\\n",
      "4702  David E. Smith (Turgon of TheOneRing.net           3.58  1593600119   \n",
      "5877                              James Wesley           3.63  156384155X   \n",
      "3348                           Sam Bass Warner           3.58   674842111   \n",
      "8979                                     Brown              0   851742718   \n",
      "\n",
      "             isbn13 language_code  num_pages  ratings_count  \\\n",
      "4702  9780000000000           eng        400             26   \n",
      "5877  9780000000000           eng        342             38   \n",
      "3348  9780000000000         en-US        236             61   \n",
      "8979  9780000000000           eng         49              0   \n",
      "\n",
      "     text_reviews_count     publication_date            publisher  \n",
      "4702                  4  2004-04-06 00:00:00  2004-04-06 00:00:00  \n",
      "5877                  4  1999-01-15 00:00:00  1999-01-15 00:00:00  \n",
      "3348                  6  2004-04-20 00:00:00  2004-04-20 00:00:00  \n",
      "8979                  0  1977-05-01 00:00:00  1977-05-01 00:00:00  \n"
     ]
    },
    {
     "name": "stderr",
     "output_type": "stream",
     "text": [
      "C:\\Users\\yama4971\\AppData\\Local\\Temp\\ipykernel_11508\\3209200227.py:2: SettingWithCopyWarning: \n",
      "A value is trying to be set on a copy of a slice from a DataFrame.\n",
      "Try using .loc[row_indexer,col_indexer] = value instead\n",
      "\n",
      "See the caveats in the documentation: https://pandas.pydata.org/pandas-docs/stable/user_guide/indexing.html#returning-a-view-versus-a-copy\n",
      "  rows_with_wrong_language['average_rating'] = np.nan\n",
      "C:\\Users\\yama4971\\AppData\\Local\\Temp\\ipykernel_11508\\3209200227.py:4: SettingWithCopyWarning: \n",
      "A value is trying to be set on a copy of a slice from a DataFrame.\n",
      "Try using .loc[row_indexer,col_indexer] = value instead\n",
      "\n",
      "See the caveats in the documentation: https://pandas.pydata.org/pandas-docs/stable/user_guide/indexing.html#returning-a-view-versus-a-copy\n",
      "  rows_with_wrong_language.iloc[:, col - 1] = rows_with_wrong_language.iloc[:, col]\n",
      "C:\\Users\\yama4971\\AppData\\Local\\Temp\\ipykernel_11508\\3209200227.py:4: DeprecationWarning: In a future version, `df.iloc[:, i] = newvals` will attempt to set the values inplace instead of always setting a new array. To retain the old behavior, use either `df[df.columns[i]] = newvals` or, if columns are non-unique, `df.isetitem(i, newvals)`\n",
      "  rows_with_wrong_language.iloc[:, col - 1] = rows_with_wrong_language.iloc[:, col]\n"
     ]
    }
   ],
   "source": [
    "#these four records have wrong inputs. need to delete one column and then move all the columns behind one step forward\n",
    "rows_with_wrong_language['average_rating'] = np.nan\n",
    "for col in range(4, len(rows_with_wrong_language.columns)):\n",
    "    rows_with_wrong_language.iloc[:, col - 1] = rows_with_wrong_language.iloc[:, col]\n",
    "print(rows_with_wrong_language)"
   ]
  },
  {
   "cell_type": "code",
   "execution_count": 11,
   "id": "4e48757e",
   "metadata": {},
   "outputs": [
    {
     "name": "stdout",
     "output_type": "stream",
     "text": [
      "[4702, 5877, 3348, 8979]\n",
      "      bookID           title                        authors average_rating  \\\n",
      "7929    3348  The Cod's Tale  Mark Kurlansky/S.D. Schindler           3.91   \n",
      "\n",
      "           isbn         isbn13 language_code num_pages  ratings_count  \\\n",
      "7929  399234764  9780000000000           eng        48            127   \n",
      "\n",
      "      text_reviews_count     publication_date  \\\n",
      "7929                  25  2001-09-10 00:00:00   \n",
      "\n",
      "                                       publisher  \n",
      "7929  G.P. Putnam's Sons Books for Young Readers  \n"
     ]
    }
   ],
   "source": [
    "#copy the updated record back to the dtaframe used for analysis\n",
    "up_filtered_df = filtered_df.copy()\n",
    "index_values = rows_with_wrong_language.index.tolist()\n",
    "print(index_values)\n",
    "for row in index_values:\n",
    "    up_filtered_df.loc[row] = rows_with_wrong_language.loc[row]\n",
    "#Key:update the index after filtering!    \n",
    "up_filtered_df = up_filtered_df.reset_index(drop=True)\n",
    "print(up_filtered_df[up_filtered_df['bookID']==3348])"
   ]
  },
  {
   "cell_type": "markdown",
   "id": "3b544749",
   "metadata": {},
   "source": [
    "## desciptive plot of the dataset"
   ]
  },
  {
   "cell_type": "code",
   "execution_count": 12,
   "id": "a9806a6d",
   "metadata": {},
   "outputs": [
    {
     "data": {
      "text/plain": [
       "{datetime.datetime, str}"
      ]
     },
     "execution_count": 12,
     "metadata": {},
     "output_type": "execute_result"
    }
   ],
   "source": [
    "# check the data type in the column of 'publication_date'\n",
    "set(up_filtered_df['publication_date'].apply(type))\n",
    "# there is wrong data type, probably wrong date input"
   ]
  },
  {
   "cell_type": "code",
   "execution_count": 13,
   "id": "50cc8e40",
   "metadata": {},
   "outputs": [
    {
     "name": "stdout",
     "output_type": "stream",
     "text": [
      "1885 11/31/2000\n",
      "9902 6/31/1982\n"
     ]
    }
   ],
   "source": [
    "#find cells that are not datetime type\n",
    "import datetime\n",
    "for i in range(0,len(up_filtered_df['publication_date'])):\n",
    "    if type(up_filtered_df.loc[i,'publication_date']) is datetime.datetime:\n",
    "        continue\n",
    "    else:\n",
    "        print(i,up_filtered_df.loc[i,'publication_date'])               "
   ]
  },
  {
   "cell_type": "code",
   "execution_count": 14,
   "id": "0a8078ca",
   "metadata": {},
   "outputs": [
    {
     "name": "stdout",
     "output_type": "stream",
     "text": [
      "bookID                                                            31373\n",
      "title                 In Pursuit of the Proper Sinner (Inspector Lyn...\n",
      "authors                                               Elizabeth  George\n",
      "average_rating                                                      4.1\n",
      "isbn                                                          553575104\n",
      "isbn13                                                    9780000000000\n",
      "language_code                                                       eng\n",
      "num_pages                                                           718\n",
      "ratings_count                                                     10608\n",
      "text_reviews_count                                                  295\n",
      "publication_date                                    2000-11-30 00:00:00\n",
      "publisher                                                  Bantam Books\n",
      "Name: 1885, dtype: object bookID                                                          45531\n",
      "title                     Montaillou  village occitan de 1294 Ã  1324\n",
      "authors               Emmanuel Le Roy Ladurie/Emmanuel Le Roy-Ladurie\n",
      "average_rating                                                   3.96\n",
      "isbn                                                       2070323285\n",
      "isbn13                                                  9780000000000\n",
      "language_code                                                     fre\n",
      "num_pages                                                         640\n",
      "ratings_count                                                      15\n",
      "text_reviews_count                                                  2\n",
      "publication_date                                  1982-06-30 00:00:00\n",
      "publisher                                              Folio histoire\n",
      "Name: 9902, dtype: object\n"
     ]
    }
   ],
   "source": [
    "# replace the date of row 1885, 9902 with right date\n",
    "import datetime\n",
    "up_date_df = up_filtered_df.copy()\n",
    "up_date_df['publication_date'] = pd.to_datetime(up_date_df['publication_date'], errors='coerce')\n",
    "indices_with_nat = up_date_df[up_date_df['publication_date'].isna()].index.tolist()\n",
    "# Replace the wrong dates with the correct ones\n",
    "for idx, correct_date in zip(indices_with_nat, [pd.Timestamp('2000-11-30'), pd.Timestamp('1982-06-30')]):\n",
    "    up_date_df.at[idx, 'publication_date'] = correct_date\n",
    "print(up_date_df.loc[1885],up_date_df.loc[9902])\n",
    "# counting for plot\n",
    "up_date_df['year'] = pd.to_datetime(up_date_df['publication_date']).dt.year\n",
    "year_counts = up_date_df['year'].value_counts().sort_index()"
   ]
  },
  {
   "cell_type": "code",
   "execution_count": 15,
   "id": "1989723a",
   "metadata": {},
   "outputs": [
    {
     "name": "stdout",
     "output_type": "stream",
     "text": [
      "1900 2020\n"
     ]
    }
   ],
   "source": [
    "#plot the number of books each year\n",
    "# Plotting\n",
    "print(year_counts.index.min(),year_counts.index.max())"
   ]
  },
  {
   "cell_type": "code",
   "execution_count": 16,
   "id": "31596b47",
   "metadata": {},
   "outputs": [
    {
     "data": {
      "image/png": "[encoded data removed]",
      "text/plain": [
       "<Figure size 1000x600 with 1 Axes>"
      ]
     },
     "metadata": {},
     "output_type": "display_data"
    }
   ],
   "source": [
    "plt.figure(figsize=(10, 6))\n",
    "plt.bar(year_counts.index, year_counts.values, color='blue')\n",
    "\n",
    "plt.xlabel('Year')\n",
    "plt.ylabel('Number of books')\n",
    "plt.title('Number of published books by Year')\n",
    "plt.xticks(year_counts.index, rotation='vertical')  # Show each year as a tick mark on the x-axis\n",
    "plt.grid(axis='y')\n",
    "plt.xlim(1970, 2020)\n",
    "\n",
    "plt.show()"
   ]
  },
  {
   "cell_type": "markdown",
   "id": "2d566ce7",
   "metadata": {},
   "source": [
    "## highest rating book"
   ]
  },
  {
   "cell_type": "code",
   "execution_count": 17,
   "id": "c28a3014",
   "metadata": {},
   "outputs": [
    {
     "name": "stdout",
     "output_type": "stream",
     "text": [
      "there are 22 books with highest rating of 5        bookID                                              title  \\\n",
      "10422   17224  The Diamond Color Meditation: Color Pathway to...   \n",
      "10453   17830  Bulgakov's the Master and Margarita: The Text ...   \n",
      "10516    2843  Literature Circle Guide: Bridge to Terabithia:...   \n",
      "10541   19786  The Goon Show  Volume 4: My Knees Have Fallen ...   \n",
      "10617   36853                 Tyrannosaurus Wrecks (Stanley  #1)   \n",
      "10622   19788  The Goon Show  Volume 11: He's Fallen in the W...   \n",
      "10637   39829  His Princess Devotional: A Royal Encounter Wit...   \n",
      "10645   14741  Zone of the Enders: The 2nd Runner Official St...   \n",
      "10648    4287  Middlesex Borough (Images of America: New Jersey)   \n",
      "10660   20954                                Winchester Shotguns   \n",
      "10661   23552                        The New Big Book of America   \n",
      "10666   36492  Oliver Wendell Holmes in Paris: Medicine  Theo...   \n",
      "10679    2560                  Willem de Kooning: Late Paintings   \n",
      "10683   18184  The Complete Theory Fun Factory: Music Theory ...   \n",
      "10686   32823       Fanning the Flame: Bible  Cross  and Mission   \n",
      "10703   20957  Colossians and Philemon: A Critical and Exeget...   \n",
      "10709   38804      The Irish Anatomist: A Study of Flann O'Brien   \n",
      "10729   25426  Delwau Duon: Peintiadau Nicholas Evans = Symph...   \n",
      "10733   23276                          Taxation of Mineral Rents   \n",
      "10766   39580  The American Campaign: U.S. Presidential Campa...   \n",
      "10770    2034  Comoediae 1: Acharenses/Equites/Nubes/Vespae/P...   \n",
      "10815   41639         Bill Gates: Computer Legend (Famous Lives)   \n",
      "\n",
      "                                                 authors average_rating  \\\n",
      "10422                                      John  Diamond              5   \n",
      "10453                                    Elena N. Mahlow              5   \n",
      "10516                                     Tara MacCarthy              5   \n",
      "10541                                         NOT A BOOK              5   \n",
      "10617  Laura Driscoll/Alisa Klayman-Grodsky/Eric     ...              5   \n",
      "10622                                         NOT A BOOK              5   \n",
      "10637                                Sheri Rose Shepherd              5   \n",
      "10645                                         Tim Bogenn              5   \n",
      "10648               Middlesex Borough Heritage Committee              5   \n",
      "10660                           Dennis Adler/R.L. Wilson              5   \n",
      "10661                               Todd Davis/Marc Frey              5   \n",
      "10666                                 William C. Dowling              5   \n",
      "10679                    Julie Sylvester/David Sylvester              5   \n",
      "10683                    Ian        Martin/Katie Elliott              5   \n",
      "10686   Chris    Green/Chris Wright/Paul Douglas Gardner              5   \n",
      "10703                                     R. McL. Wilson              5   \n",
      "10709                                      Keith Donohue              5   \n",
      "10729                    Nicholas    Evans/Rhonda  Evans              5   \n",
      "10733                                       Ross Garnaut              5   \n",
      "10766                                  James E. Campbell              5   \n",
      "10770                Aristophanes/F.W. Hall/W.M. Geldart              5   \n",
      "10815                                   Sara Barton-Wood              5   \n",
      "\n",
      "             isbn         isbn13 language_code num_pages  ratings_count  \\\n",
      "10422  1890995525  9780000000000           eng        74              5   \n",
      "10453   533017424  9780000000000           eng       202              4   \n",
      "10516   439271711  9780000000000           eng        32              4   \n",
      "10541   563388692  9780000000000           eng         2              3   \n",
      "10617   786845031  9780000000000           eng        24              2   \n",
      "10622   563388323  9780000000000           eng         2              2   \n",
      "10637  1590529626  9780000000000           eng       240              2   \n",
      "10645   744002354  9780000000000           eng       128              2   \n",
      "10648   738511676  9780000000000           eng       128              2   \n",
      "10660   785821082  9780000000000           eng       372              2   \n",
      "10661   762412631  9780000000000           eng        56              2   \n",
      "10666  1584655801  9780000000000           eng       179              1   \n",
      "10679  382960226X  9780000000000           eng        83              1   \n",
      "10683   851621813  9780000000000           eng        96              1   \n",
      "10686   310249872  9780000000000           eng       336              1   \n",
      "10703   567044718  9780000000000           eng       512              1   \n",
      "10709  1930901356  9780000000000           eng       222              1   \n",
      "10729   862431352  9780000000000           wel       150              1   \n",
      "10733   198284543  9780000000000           eng       350              1   \n",
      "10766  089096940X  9780000000000           eng       314              0   \n",
      "10770   198145047  9780000000000           grc       364              0   \n",
      "10815   739844326  9780000000000           eng        48              0   \n",
      "\n",
      "       text_reviews_count publication_date                        publisher  \\\n",
      "10422                   3       2006-02-01            Square One Publishers   \n",
      "10453                   0       1975-01-01                    Vantage Press   \n",
      "10516                   1       2002-01-01               Teaching Resources   \n",
      "10541                   0       1996-04-01               BBC Physical Audio   \n",
      "10617                   1       2003-02-01                     Disney Press   \n",
      "10622                   0       1995-10-02               BBC Physical Audio   \n",
      "10637                   0       2007-10-16                        Multnomah   \n",
      "10645                   0       2003-03-06                       BradyGames   \n",
      "10648                   0       2003-03-17               Arcadia Publishing   \n",
      "10660                   0       2008-05-15                  Chartwell Books   \n",
      "10661                   1       2002-03-21                    Courage Books   \n",
      "10666                   1       2007-02-28  University Press of New England   \n",
      "10679                   0       2006-09-01                   Schirmer Mosel   \n",
      "10683                   0       2004-06-01              Boosey & Hawkes Inc   \n",
      "10686                   1       2003-06-17                        Zondervan   \n",
      "10703                   0       2005-12-07                  T&T Clark Int'l   \n",
      "10709                   0       2003-07-25                  Academica Press   \n",
      "10729                   0       1987-06-22                          Y Lolfa   \n",
      "10733                   0       1983-11-17     Oxford University Press  USA   \n",
      "10766                   0       2000-05-01       Texas A&M University Press   \n",
      "10770                   0       1922-02-22     Oxford University Press  USA   \n",
      "10815                   0       2001-11-01                         Raintree   \n",
      "\n",
      "       year  \n",
      "10422  2006  \n",
      "10453  1975  \n",
      "10516  2002  \n",
      "10541  1996  \n",
      "10617  2003  \n",
      "10622  1995  \n",
      "10637  2007  \n",
      "10645  2003  \n",
      "10648  2003  \n",
      "10660  2008  \n",
      "10661  2002  \n",
      "10666  2007  \n",
      "10679  2006  \n",
      "10683  2004  \n",
      "10686  2003  \n",
      "10703  2005  \n",
      "10709  2003  \n",
      "10729  1987  \n",
      "10733  1983  \n",
      "10766  2000  \n",
      "10770  1922  \n",
      "10815  2001  \n"
     ]
    }
   ],
   "source": [
    "# First, without adjusting with number of reviews\n",
    "highest_rating = up_date_df['average_rating'].max()\n",
    "highest_rating_book = up_date_df[up_date_df['average_rating'] == highest_rating]\n",
    "num_book_highest = len(highest_rating_book.index)\n",
    "print(\"there are\",num_book_highest,\"books with highest rating of\", highest_rating, highest_rating_book)\n"
   ]
  },
  {
   "cell_type": "code",
   "execution_count": 18,
   "id": "fc9a2dfc",
   "metadata": {},
   "outputs": [],
   "source": [
    "# Then adjust the rating with number of reviews\n",
    "## I use Bayesian average to adjust the rating\n",
    "def bayesian_average(C, M, N, R):\n",
    "    \"\"\"\n",
    "    Calculate the Bayesian average.\n",
    "\n",
    "    Parameters:\n",
    "    C (float): Constant, representing the weight of the prior belief.\n",
    "    M (float): Prior belief or mean rating across all items.\n",
    "    N (int): Number of reviews for the specific item.\n",
    "    R (float): Average rating for the specific item.\n",
    "\n",
    "    Returns:\n",
    "    float: Adjusted rating based on Bayesian average.\n",
    "    \"\"\"\n",
    "    return (C * M + N * R) / (C + N)"
   ]
  },
  {
   "cell_type": "code",
   "execution_count": 19,
   "id": "5417bbf1",
   "metadata": {},
   "outputs": [
    {
     "data": {
      "image/png": "[encoded data removed]",
      "text/plain": [
       "<Figure size 640x480 with 1 Axes>"
      ]
     },
     "metadata": {},
     "output_type": "display_data"
    }
   ],
   "source": [
    "# To set values of C, N, need to get statistics in rating and number of rating\n",
    "# mean rating across all items and distribution\n",
    "import seaborn as sns\n",
    "rating = up_date_df['average_rating']\n",
    "# Create the histogram and KDE plot\n",
    "sns.histplot(rating, bins=500, kde=True, color='skyblue', edgecolor='black')\n",
    "# Add labels and title\n",
    "plt.xlabel(\"Rating\")\n",
    "plt.ylabel(\"Frequency\")\n",
    "plt.title(\"Distribution of rating with Summary Statistics\")\n",
    "# Calculate statistics\n",
    "mean = np.mean(rating)\n",
    "median = np.median(rating)\n",
    "percentile_25 = np.percentile(rating, 25)\n",
    "percentile_75 = np.percentile(rating, 75)\n",
    "\n",
    "# Add lines and annotations for statistics\n",
    "plt.axvline(mean, color='r', linestyle='--')\n",
    "plt.annotate('Mean', xy=(mean, 5), xytext=(mean, 25),\n",
    "             arrowprops=dict(facecolor='red', shrink=0.05),\n",
    "             fontsize=12, color='red')\n",
    "\n",
    "plt.axvline(median, color='g', linestyle='-')\n",
    "plt.annotate('Median', xy=(median, 5), xytext=(median, 20),\n",
    "             arrowprops=dict(facecolor='green', shrink=0.05),\n",
    "             fontsize=12, color='green')\n",
    "\n",
    "plt.axvline(percentile_25, color='b', linestyle='-.')\n",
    "plt.annotate('25%', xy=(percentile_25, 5), xytext=(percentile_25, 15),\n",
    "             arrowprops=dict(facecolor='blue', shrink=0.05),\n",
    "             fontsize=12, color='blue')\n",
    "\n",
    "plt.axvline(percentile_75, color='y', linestyle='-.')\n",
    "plt.annotate('75%', xy=(percentile_75, 5), xytext=(percentile_75, 10),\n",
    "             arrowprops=dict(facecolor='yellow', shrink=0.05),\n",
    "             fontsize=12, color='yellow')\n",
    "plt.xlim(3,5)\n",
    "# Show the plot\n",
    "plt.show()\n"
   ]
  },
  {
   "cell_type": "code",
   "execution_count": 20,
   "id": "f65b2dc2",
   "metadata": {},
   "outputs": [
    {
     "name": "stdout",
     "output_type": "stream",
     "text": [
      "mean: 3.9337527736686386 \n",
      " median: 3.96 \n",
      "percentile_25: 3.77 \n",
      " percentile_75: 4.14\n"
     ]
    }
   ],
   "source": [
    "print(\"mean:\",mean, \"\\n\", \"median:\", median, \"\\n\"\n",
    "     \"percentile_25:\", percentile_25,\"\\n\",\n",
    "     \"percentile_75:\", percentile_75)"
   ]
  },
  {
   "cell_type": "code",
   "execution_count": 21,
   "id": "232d12e4",
   "metadata": {},
   "outputs": [
    {
     "data": {
      "image/png": "[encoded data removed]",
      "text/plain": [
       "<Figure size 640x480 with 1 Axes>"
      ]
     },
     "metadata": {},
     "output_type": "display_data"
    },
    {
     "name": "stdout",
     "output_type": "stream",
     "text": [
      "mean: 18401.516087278105 \n",
      " median: 785.5 \n",
      "percentile_25: 108.0 \n",
      " percentile_75: 5296.5\n"
     ]
    }
   ],
   "source": [
    "# mean number of rating across all items and distribution\n",
    "num_rating = up_date_df['ratings_count']\n",
    "# Create the histogram and KDE plot\n",
    "sns.histplot(num_rating, bins=10000,kde=True, color='skyblue', edgecolor='black')\n",
    "# Add labels and title\n",
    "plt.xlabel(\"Number of rating\")\n",
    "plt.ylabel(\"Frequency\")\n",
    "plt.title(\"Distribution of number of rating with Summary Statistics\")\n",
    "# Calculate statistics\n",
    "num_mean = np.mean(num_rating)\n",
    "num_median = np.median(num_rating)\n",
    "num_percentile_25 = np.percentile(num_rating, 25)\n",
    "num_percentile_75 = np.percentile(num_rating, 75)\n",
    "\n",
    "# Add lines and annotations for statistics\n",
    "plt.axvline(num_mean, color='r', linestyle='--')\n",
    "plt.annotate('Mean', xy=(num_mean, 5), xytext=(num_mean, 25),\n",
    "             arrowprops=dict(facecolor='red', shrink=0.05),\n",
    "             fontsize=12, color='red')\n",
    "\n",
    "plt.axvline(num_median, color='g', linestyle='-')\n",
    "plt.annotate('Median', xy=(num_median, 5), xytext=(num_median, 20),\n",
    "             arrowprops=dict(facecolor='green', shrink=0.05),\n",
    "             fontsize=12, color='green')\n",
    "\n",
    "plt.axvline(num_percentile_25, color='b', linestyle='-.')\n",
    "plt.annotate('25%', xy=(num_percentile_25, 5), xytext=(num_percentile_25, 15),\n",
    "             arrowprops=dict(facecolor='blue', shrink=0.05),\n",
    "             fontsize=12, color='blue')\n",
    "\n",
    "plt.axvline(num_percentile_75, color='y', linestyle='-.')\n",
    "plt.annotate('75%', xy=(num_percentile_75, 5), xytext=(num_percentile_75, 10),\n",
    "             arrowprops=dict(facecolor='yellow', shrink=0.05),\n",
    "             fontsize=12, color='yellow')\n",
    "# Show the plot\n",
    "plt.xlim(0,100000)\n",
    "\n",
    "plt.show()\n",
    "print(\"mean:\",num_mean, \"\\n\", \"median:\", num_median, \"\\n\"\n",
    "     \"percentile_25:\", num_percentile_25,\"\\n\",\n",
    "     \"percentile_75:\", num_percentile_75)\n"
   ]
  },
  {
   "cell_type": "code",
   "execution_count": 22,
   "id": "e3cf0c5a",
   "metadata": {},
   "outputs": [],
   "source": [
    "# M is to be mean value of rating\n",
    "# compare the results of bayesian average with C value to be median and 25 percentile\n",
    "M = mean\n",
    "C_median = num_mean\n",
    "C_percentile_25 = num_percentile_25\n",
    "N = up_date_df['ratings_count']\n",
    "R = up_date_df['average_rating']\n",
    "up_date_df[\"adj_rating_median\"] = pd.to_numeric(bayesian_average(C_median, M, N, R))\n",
    "up_date_df['adj_rating_25'] = pd.to_numeric(bayesian_average(C_percentile_25, M, N, R))"
   ]
  },
  {
   "cell_type": "code",
   "execution_count": 23,
   "id": "e5c655bf",
   "metadata": {},
   "outputs": [
    {
     "name": "stdout",
     "output_type": "stream",
     "text": [
      "                                                 title average_rating  \\\n",
      "9    Harry Potter and the Half-Blood Prince (Harry ...           4.57   \n",
      "4    Harry Potter and the Prisoner of Azkaban (Harr...           4.56   \n",
      "768  Harry Potter Boxed Set  Books 1-5 (Harry Potte...           4.78   \n",
      "921                     The Complete Calvin and Hobbes           4.82   \n",
      "347  J.R.R. Tolkien 4-Book Boxed Set: The Hobbit an...           4.59   \n",
      "6    Harry Potter and the Order of the Phoenix (Har...           4.49   \n",
      "312                                  The Complete Maus           4.55   \n",
      "676       The Calvin and Hobbes Tenth Anniversary Book           4.63   \n",
      "56          The Two Towers (The Lord of the Rings  #2)           4.44   \n",
      "313  Fullmetal Alchemist  Vol. 1 (Fullmetal Alchemi...            4.5   \n",
      "\n",
      "     adj_rating_median  ratings_count  \n",
      "9             4.564462        2095690  \n",
      "4             4.555113        2339585  \n",
      "768           4.519723          41428  \n",
      "921           4.497794          32213  \n",
      "347           4.489060         101233  \n",
      "6             4.485286        2153167  \n",
      "312           4.462687         111475  \n",
      "676           4.440259          49122  \n",
      "56            4.424775         593467  \n",
      "313           4.419534         111091  \n",
      "                                                  title average_rating  \\\n",
      "921                      The Complete Calvin and Hobbes           4.82   \n",
      "768   Harry Potter Boxed Set  Books 1-5 (Harry Potte...           4.78   \n",
      "1139      It's a Magical World (Calvin and Hobbes  #11)           4.76   \n",
      "1010       Harry Potter Collection (Harry Potter  #1-6)           4.73   \n",
      "1516  Homicidal Psycho Jungle Cat (Calvin and Hobbes...           4.72   \n",
      "3189  Calvin and Hobbes: Sunday Pages 1985-1995: An ...           4.71   \n",
      "1269                           The Days Are Just Packed           4.69   \n",
      "3002                                   Study Bible: NIV            4.7   \n",
      "1498                   The Absolute Sandman  Volume One           4.65   \n",
      "4629     The Complete Aubrey/Maturin Novels (5 Volumes)            4.7   \n",
      "\n",
      "      adj_rating_25  ratings_count  \n",
      "921        4.817039          32213  \n",
      "768        4.777800          41428  \n",
      "1139       4.756279          23875  \n",
      "1010       4.726967          28242  \n",
      "1516       4.714512          15365  \n",
      "3189       4.687470           3613  \n",
      "1269       4.685999          20308  \n",
      "3002       4.680638           4166  \n",
      "1498       4.645088          15640  \n",
      "4629       4.642770           1338  \n"
     ]
    }
   ],
   "source": [
    "top_10_highest_median = up_date_df.nlargest(10,'adj_rating_median')\n",
    "top_10_highest_25 = up_date_df.nlargest(10,'adj_rating_25')\n",
    "print(up_date_df.loc[top_10_highest_median.index,['title','average_rating','adj_rating_median','ratings_count']])\n",
    "print(up_date_df.loc[top_10_highest_25.index,['title','average_rating','adj_rating_25','ratings_count']])"
   ]
  },
  {
   "cell_type": "markdown",
   "id": "126f0d71",
   "metadata": {},
   "source": [
    "Use median value as C seems more reseanable.To choose a proper value for C, we can do A/B tet here."
   ]
  },
  {
   "cell_type": "markdown",
   "id": "20f1fc01",
   "metadata": {},
   "source": [
    "# # underrated gem"
   ]
  },
  {
   "cell_type": "code",
   "execution_count": 24,
   "id": "88a2fc45",
   "metadata": {},
   "outputs": [
    {
     "name": "stdout",
     "output_type": "stream",
     "text": [
      "                                                   title average_rating  \\\n",
      "10766  The American Campaign: U.S. Presidential Campa...              5   \n",
      "10770  Comoediae 1: Acharenses/Equites/Nubes/Vespae/P...              5   \n",
      "10815         Bill Gates: Computer Legend (Famous Lives)              5   \n",
      "10666  Oliver Wendell Holmes in Paris: Medicine  Theo...              5   \n",
      "10679                  Willem de Kooning: Late Paintings              5   \n",
      "10683  The Complete Theory Fun Factory: Music Theory ...              5   \n",
      "10686       Fanning the Flame: Bible  Cross  and Mission              5   \n",
      "10703  Colossians and Philemon: A Critical and Exeget...              5   \n",
      "10709      The Irish Anatomist: A Study of Flann O'Brien              5   \n",
      "10729  Delwau Duon: Peintiadau Nicholas Evans = Symph...              5   \n",
      "\n",
      "       adj_rating_median  rating_gap  ratings_count  \n",
      "10766           3.933753    1.066247              0  \n",
      "10770           3.933753    1.066247              0  \n",
      "10815           3.933753    1.066247              0  \n",
      "10666           3.933811    1.066189              1  \n",
      "10679           3.933811    1.066189              1  \n",
      "10683           3.933811    1.066189              1  \n",
      "10686           3.933811    1.066189              1  \n",
      "10703           3.933811    1.066189              1  \n",
      "10709           3.933811    1.066189              1  \n",
      "10729           3.933811    1.066189              1  \n"
     ]
    }
   ],
   "source": [
    "#which book has a high rating but few reviews\n",
    "#can use the result from bayesian average. \n",
    "#after adjusting by number of reviews, few reviews can make the high rating close to mean rating, forming a big gap between the rating and the adjusted rating\n",
    "up_date_df['rating_gap'] = pd.to_numeric(up_date_df['average_rating']-up_date_df[\"adj_rating_median\"]) \n",
    "top_10_highest_gap = up_date_df.nlargest(10,'rating_gap')\n",
    "print(up_date_df.loc[top_10_highest_gap.index,['title','average_rating','adj_rating_median','rating_gap','ratings_count']])"
   ]
  },
  {
   "cell_type": "markdown",
   "id": "7169d8a9",
   "metadata": {},
   "source": [
    "# # book receiving the most reviews"
   ]
  },
  {
   "cell_type": "code",
   "execution_count": 25,
   "id": "9b88a59f",
   "metadata": {},
   "outputs": [
    {
     "name": "stdout",
     "output_type": "stream",
     "text": [
      "                                               title average_rating  \\\n",
      "0                            Twilight (Twilight  #1)           3.59   \n",
      "1                The Hobbit  or There and Back Again           4.27   \n",
      "2                             The Catcher in the Rye            3.8   \n",
      "3               Angels & Demons (Robert Langdon  #1)           3.89   \n",
      "4  Harry Potter and the Prisoner of Azkaban (Harr...           4.56   \n",
      "5  Harry Potter and the Chamber of Secrets (Harry...           4.42   \n",
      "6  Harry Potter and the Order of the Phoenix (Har...           4.49   \n",
      "7  The Fellowship of the Ring (The Lord of the Ri...           4.36   \n",
      "8                                        Animal Farm           3.93   \n",
      "9  Harry Potter and the Half-Blood Prince (Harry ...           4.57   \n",
      "\n",
      "   adj_rating_median  ratings_count  \n",
      "0           3.591370        4597666  \n",
      "1           4.267573        2530894  \n",
      "2           3.800994        2457092  \n",
      "3           3.890330        2418736  \n",
      "4           4.555113        2339585  \n",
      "5           4.416131        2293963  \n",
      "6           4.485286        2153167  \n",
      "7           4.356347        2128944  \n",
      "8           3.930032        2111750  \n",
      "9           4.564462        2095690  \n"
     ]
    }
   ],
   "source": [
    "top_10_most_review = up_date_df.nlargest(10,'ratings_count')\n",
    "print(up_date_df.loc[top_10_most_review.index,['title','average_rating','adj_rating_median','ratings_count']])"
   ]
  },
  {
   "cell_type": "markdown",
   "id": "d2730020",
   "metadata": {},
   "source": [
    "# # The most productive author"
   ]
  },
  {
   "cell_type": "code",
   "execution_count": 27,
   "id": "21f02baa",
   "metadata": {},
   "outputs": [
    {
     "name": "stdout",
     "output_type": "stream",
     "text": [
      "                                               title  \\\n",
      "0                            Twilight (Twilight  #1)   \n",
      "1                The Hobbit  or There and Back Again   \n",
      "2                             The Catcher in the Rye   \n",
      "3               Angels & Demons (Robert Langdon  #1)   \n",
      "4  Harry Potter and the Prisoner of Azkaban (Harr...   \n",
      "\n",
      "                       authors  adj_rating_median  \n",
      "0              Stephenie Meyer           3.591370  \n",
      "1               J.R.R. Tolkien           4.267573  \n",
      "2                J.D. Salinger           3.800994  \n",
      "3                    Dan Brown           3.890330  \n",
      "4  J.K. Rowling/Mary GrandPrÃ©           4.555113  \n"
     ]
    }
   ],
   "source": [
    "# make a new dataframe containing only columns of title, authors, and adj_rating_median\n",
    "author_df = up_date_df[['title', 'authors', 'adj_rating_median']].copy()\n",
    "print(author_df.head())"
   ]
  },
  {
   "cell_type": "code",
   "execution_count": 48,
   "id": "b909af7d",
   "metadata": {},
   "outputs": [
    {
     "name": "stdout",
     "output_type": "stream",
     "text": [
      "                                               title          authors  \\\n",
      "0                            Twilight (Twilight  #1)  Stephenie Meyer   \n",
      "1                The Hobbit  or There and Back Again   J.R.R. Tolkien   \n",
      "2                             The Catcher in the Rye    J.D. Salinger   \n",
      "3               Angels & Demons (Robert Langdon  #1)        Dan Brown   \n",
      "4  Harry Potter and the Prisoner of Azkaban (Harr...     J.K. Rowling   \n",
      "5  Harry Potter and the Prisoner of Azkaban (Harr...   Mary GrandPrÃ©   \n",
      "6  Harry Potter and the Chamber of Secrets (Harry...     J.K. Rowling   \n",
      "7  Harry Potter and the Chamber of Secrets (Harry...   Mary GrandPrÃ©   \n",
      "8  Harry Potter and the Order of the Phoenix (Har...     J.K. Rowling   \n",
      "9  Harry Potter and the Order of the Phoenix (Har...   Mary GrandPrÃ©   \n",
      "\n",
      "   adj_rating_median  \n",
      "0           3.591370  \n",
      "1           4.267573  \n",
      "2           3.800994  \n",
      "3           3.890330  \n",
      "4           4.555113  \n",
      "5           4.555113  \n",
      "6           4.416131  \n",
      "7           4.416131  \n",
      "8           4.485286  \n",
      "9           4.485286  \n"
     ]
    }
   ],
   "source": [
    "# make a copy of the book to each author if multiple authors exist, then delete the original line\n",
    "#define a new dataframe to store the new information\n",
    "author_df_new = pd.DataFrame(data=[], columns=['title', 'authors', 'adj_rating_median'])\n",
    "for i in range(len(author_df)):\n",
    "    authors = author_df.loc[i,'authors']\n",
    "    if '/' in authors:\n",
    "        split_authors = authors.split('/')\n",
    "        for au in split_authors:\n",
    "            add_row = pd.DataFrame({'title':author_df.loc[i,'title'],'authors':au, 'adj_rating_median':author_df.loc[i,'adj_rating_median']}, index=[0])\n",
    "            author_df_new = pd.concat([author_df_new, add_row],ignore_index=True)\n",
    "    else:\n",
    "        add_row = pd.DataFrame({'title':author_df.loc[i,'title'],'authors':author_df.loc[i,'authors'], 'adj_rating_median':author_df.loc[i,'adj_rating_median']}, index=[0])                        \n",
    "        author_df_new = pd.concat([author_df_new, add_row],ignore_index=True)                     \n",
    "print(author_df_new.head(10))\n"
   ]
  },
  {
   "cell_type": "code",
   "execution_count": 49,
   "id": "6664fe60",
   "metadata": {},
   "outputs": [
    {
     "name": "stdout",
     "output_type": "stream",
     "text": [
      "William Shakespeare    91\n",
      "Stephen King           84\n",
      "J.R.R. Tolkien         50\n",
      "Sandra Brown           47\n",
      "P.G. Wodehouse         46\n",
      "Agatha Christie        45\n",
      "Roald Dahl             44\n",
      "Mercedes Lackey        43\n",
      "Orson Scott Card       42\n",
      "James Patterson        41\n",
      "Name: authors, dtype: int64\n"
     ]
    }
   ],
   "source": [
    "# count how many books for each author\n",
    "book_counts = author_df_new['authors'].value_counts()\n",
    "top_10_book_counts = book_counts.head(10)\n",
    "print(top_10_book_counts)"
   ]
  },
  {
   "cell_type": "markdown",
   "id": "4a6b362d",
   "metadata": {},
   "source": [
    "# # Highest rated author"
   ]
  },
  {
   "cell_type": "code",
   "execution_count": 52,
   "id": "394ed4b3",
   "metadata": {},
   "outputs": [
    {
     "name": "stdout",
     "output_type": "stream",
     "text": [
      "                        authors  adj_rating_median\n",
      "5831             Mary GrandPrÃ©           4.502505\n",
      "4483                  Jon Stone           4.369798\n",
      "6100         Michael J. Smollin           4.369798\n",
      "1038  Cao XuÃ¢n Viá»‡t KhÆ°Æ¡ng           4.364769\n",
      "3510                 Isle Lasch           4.333901\n",
      "817              Bill Watterson           4.330499\n",
      "2937               George Pratt           4.330289\n",
      "7777             Ruth E. Harper           4.310065\n",
      "6358              Nancy M. Leak           4.310065\n",
      "606                 Audrey Penn           4.310065\n"
     ]
    }
   ],
   "source": [
    "# use the median rating as author's rating\n",
    "# Group the DataFrame by 'authors' and calculate the median rating\n",
    "author_df_new['adj_rating_median'] = pd.to_numeric(author_df_new['adj_rating_median'], errors='coerce')\n",
    "median_rating = author_df_new.groupby('authors')['adj_rating_median'].median().reset_index()\n",
    "df_sorted_desc = median_rating.sort_values('adj_rating_median', ascending=False)\n",
    "print(df_sorted_desc.head(10))"
   ]
  },
  {
   "cell_type": "code",
   "execution_count": 47,
   "id": "a935a52a",
   "metadata": {},
   "outputs": [
    {
     "name": "stdout",
     "output_type": "stream",
     "text": [
      "                                                 title  \\\n",
      "9    Harry Potter and the Half-Blood Prince (Harry ...   \n",
      "4    Harry Potter and the Prisoner of Azkaban (Harr...   \n",
      "768  Harry Potter Boxed Set  Books 1-5 (Harry Potte...   \n",
      "921                     The Complete Calvin and Hobbes   \n",
      "347  J.R.R. Tolkien 4-Book Boxed Set: The Hobbit an...   \n",
      "6    Harry Potter and the Order of the Phoenix (Har...   \n",
      "312                                  The Complete Maus   \n",
      "676       The Calvin and Hobbes Tenth Anniversary Book   \n",
      "56          The Two Towers (The Lord of the Rings  #2)   \n",
      "313  Fullmetal Alchemist  Vol. 1 (Fullmetal Alchemi...   \n",
      "\n",
      "                            authors  adj_rating_median  \n",
      "9       J.K. Rowling/Mary GrandPrÃ©           4.564462  \n",
      "4       J.K. Rowling/Mary GrandPrÃ©           4.555113  \n",
      "768     J.K. Rowling/Mary GrandPrÃ©           4.519723  \n",
      "921                  Bill Watterson           4.497794  \n",
      "347                  J.R.R. Tolkien           4.489060  \n",
      "6       J.K. Rowling/Mary GrandPrÃ©           4.485286  \n",
      "312                  Art Spiegelman           4.462687  \n",
      "676                  Bill Watterson           4.440259  \n",
      "56   J.R.R. Tolkien/Peter S. Beagle           4.424775  \n",
      "313   Hiromu Arakawa/Akira Watanabe           4.419534  \n"
     ]
    }
   ],
   "source": [
    "print(author_df.sort_values('adj_rating_median', ascending=False).head(10))"
   ]
  },
  {
   "cell_type": "markdown",
   "id": "ac82bf12",
   "metadata": {},
   "source": [
    "# # Correlation between the length of book and number of text reviews"
   ]
  },
  {
   "cell_type": "code",
   "execution_count": 104,
   "id": "96b5fc69",
   "metadata": {},
   "outputs": [
    {
     "data": {
      "image/png": "[encoded data removed]",
      "text/plain": [
       "<Figure size 640x480 with 1 Axes>"
      ]
     },
     "metadata": {},
     "output_type": "display_data"
    }
   ],
   "source": [
    "#scatterplot pages vs number of count of text review\n",
    "from scipy.optimize import curve_fit\n",
    "from sklearn.preprocessing import StandardScaler\n",
    "\n",
    "#define a exponential function\n",
    "#Which regression model to choose depend on the shape of the scatterplot\n",
    "def fit_func(x, a, b,c,d):\n",
    "    return a*x/np.exp(b*x+c)+d\n",
    "\n",
    "#scale the data\n",
    "scaler_x = StandardScaler()\n",
    "scaler_y = StandardScaler()\n",
    "up_date_df['x_scaled'] = scaler_x.fit_transform(up_date_df[['num_pages']])\n",
    "up_date_df['y_scaled'] = scaler_y.fit_transform(up_date_df[['text_reviews_count']])\n",
    "\n",
    "#Fit the scaled data using curve_fit\n",
    "initial_guess = [1,1,1,1]\n",
    "params, _ = curve_fit(fit_func, up_date_df['x_scaled'], up_date_df['y_scaled'], p0=initial_guess)\n",
    "\n",
    "# Generate fitted y-values\n",
    "x = np.linspace(up_date_df['x_scaled'].min(), up_date_df['x_scaled'].max(), 100)\n",
    "y = reciprocal_func(x, *params)\n",
    "up_date_df['y_fit_scaled'] = fit_func(up_date_df['x_scaled'], *params)\n",
    "\n",
    "# Plot the scaled data and fitted curve\n",
    "plt.scatter(up_date_df['x_scaled'], up_date_df['y_scaled'], label='scaled data')\n",
    "plt.plot(x, y, label='Fitted Curve', color='red')\n",
    "plt.legend()\n",
    "plt.xlabel('Scaled num_pages')\n",
    "plt.ylabel('Scaled text_reviews_count')\n",
    "plt.title('Curve Fitting with Scaled Data')\n",
    "plt.show()\n"
   ]
  },
  {
   "cell_type": "code",
   "execution_count": 102,
   "id": "7320c9f8",
   "metadata": {},
   "outputs": [
    {
     "data": {
      "text/plain": [
       "array([0.25052176, 0.75336898, 1.28945007, 0.03455379])"
      ]
     },
     "execution_count": 102,
     "metadata": {},
     "output_type": "execute_result"
    }
   ],
   "source": [
    "params"
   ]
  },
  {
   "cell_type": "code",
   "execution_count": 103,
   "id": "c1968371",
   "metadata": {},
   "outputs": [
    {
     "data": {
      "image/png": "[encoded data removed]",
      "text/plain": [
       "<Figure size 640x480 with 1 Axes>"
      ]
     },
     "metadata": {},
     "output_type": "display_data"
    }
   ],
   "source": [
    "plt.plot(x, y, label='Fitted Curve', color='red')\n",
    "plt.show()"
   ]
  },
  {
   "cell_type": "markdown",
   "id": "4580b094",
   "metadata": {},
   "source": [
    "No obvious correlation found"
   ]
  }
 ],
 "metadata": {
  "kernelspec": {
   "display_name": "Python 3 (ipykernel)",
   "language": "python",
   "name": "python3"
  },
  "language_info": {
   "codemirror_mode": {
    "name": "ipython",
    "version": 3
   },
   "file_extension": ".py",
   "mimetype": "text/x-python",
   "name": "python",
   "nbconvert_exporter": "python",
   "pygments_lexer": "ipython3",
   "version": "3.10.9"
  }
 },
 "nbformat": 4,
 "nbformat_minor": 5
}
