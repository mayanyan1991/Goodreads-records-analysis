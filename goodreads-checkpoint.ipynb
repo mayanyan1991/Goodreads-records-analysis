{
 "cells": [
  {
   "cell_type": "markdown",
   "id": "1639ac85",
   "metadata": {},
   "source": [
    "# Goodreads analysis"
   ]
  },
  {
   "cell_type": "markdown",
   "id": "7709d314",
   "metadata": {},
   "source": [
    "This is an analysis beased on a dataset of Goodreads data downloaded from Kaggle.\n",
    "This data set contains information of book title, author, average rating, isbn, languange, pages, numbers of reviews received, number of text review recieved, publication day, and publisher.\n",
    "Ccolumn names are 'bookID', 'title', 'authors', 'average_rating', 'isbn', 'isbn13', 'language_code', 'num_pages', 'ratings_count', 'text_reviews_count', 'publication_date', 'publisher'.\n",
    "\n",
    "The key questions I would like to answer through analysis include:\n",
    "1. More and more books published? Changes on numbers of books published through time;\n",
    "2. Most productive author: The author has the highest number of published books;\n",
    "3. Which book is the best? The book has the highest average rating (with and without adjusted by number of reviews);\n",
    "4. Which book received the most reviews?\n",
    "5. Underrated gem: which book has a high rating but few reviews;\n",
    "6. Which author has a overall highest rating?\n",
    "7. Is there a correlation between the length of book and rating/number of reviews\n",
    "To answer the above questions, I will first check general statistic of this database, then address questions one by one.\n"
   ]
  },
  {
   "cell_type": "code",
   "execution_count": 1,
   "id": "155ab015",
   "metadata": {},
   "outputs": [],
   "source": [
    "import pandas as pd\n",
    "import numpy as np\n",
    "import matplotlib.pyplot as plt"
   ]
  },
  {
   "cell_type": "code",
   "execution_count": 2,
   "id": "a4c446bf",
   "metadata": {},
   "outputs": [
    {
     "name": "stdout",
     "output_type": "stream",
     "text": [
      "Index(['bookID', 'title', 'authors', 'average_rating', 'isbn', 'isbn13',\n",
      "       'language_code', '  num_pages', 'ratings_count', 'text_reviews_count',\n",
      "       'publication_date', 'publisher', 'Unnamed: 12'],\n",
      "      dtype='object')\n"
     ]
    }
   ],
   "source": [
    "#import the dataset as dataframe\n",
    "file_path = r\"C:\\Users\\yama4971\\Desktop\\kaggle\\books.xlsx\"\n",
    "df = pd.read_excel(file_path)\n",
    "print(df.columns)"
   ]
  },
  {
   "cell_type": "code",
   "execution_count": 3,
   "id": "bd797161",
   "metadata": {},
   "outputs": [
    {
     "name": "stdout",
     "output_type": "stream",
     "text": [
      "Index(['bookID', 'title', 'authors', 'average_rating', 'isbn', 'isbn13',\n",
      "       'language_code', 'num_pages', 'ratings_count', 'text_reviews_count',\n",
      "       'publication_date', 'publisher'],\n",
      "      dtype='object')\n"
     ]
    }
   ],
   "source": [
    "#delete the space in column names and droped the last empty column\n",
    "df.columns = df.columns.str.strip()\n",
    "df = df.drop(df.columns[-1], axis=1)\n",
    "print(df.columns)"
   ]
  },
  {
   "cell_type": "code",
   "execution_count": 4,
   "id": "4bd8da08",
   "metadata": {},
   "outputs": [
    {
     "name": "stdout",
     "output_type": "stream",
     "text": [
      "Number of rows excluding column names: 11127\n"
     ]
    }
   ],
   "source": [
    "#count how many records \n",
    "num_rows = len(df.index)\n",
    "print(\"Number of rows excluding column names:\", num_rows)"
   ]
  },
  {
   "cell_type": "code",
   "execution_count": 5,
   "id": "d790bf55",
   "metadata": {},
   "outputs": [
    {
     "name": "stdout",
     "output_type": "stream",
     "text": [
      "False\n"
     ]
    }
   ],
   "source": [
    "#check if any NA value exsits\n",
    "any_missing_values = df.isna().any().any()\n",
    "print(any_missing_values)"
   ]
  },
  {
   "cell_type": "code",
   "execution_count": 6,
   "id": "2c2809ca",
   "metadata": {},
   "outputs": [
    {
     "name": "stdout",
     "output_type": "stream",
     "text": [
      "       bookID                                              title  \\\n",
      "9          14  The Hitchhiker's Guide to the Galaxy (Hitchhik...   \n",
      "12         21               A Short History of Nearly Everything   \n",
      "13         22                        Bill Bryson's African Diary   \n",
      "22         31  The Lord of the Rings (The Lord of the Rings  ...   \n",
      "23         34  The Fellowship of the Ring (The Lord of the Ri...   \n",
      "...       ...                                                ...   \n",
      "11046   45314                                 Kafka on the Shore   \n",
      "11047   45316                                 Sputnik Sweetheart   \n",
      "11066   45414         The Locked Room (The New York Trilogy  #3)   \n",
      "11084   45485          The Subtle Knife (His Dark Materials  #2)   \n",
      "11100   45536                                        On the Road   \n",
      "\n",
      "                              authors average_rating        isbn  \\\n",
      "9                       Douglas Adams           4.22  1400052920   \n",
      "12                        Bill Bryson           4.21  076790818X   \n",
      "13                        Bill Bryson           3.44   767915062   \n",
      "22                     J.R.R. Tolkien            4.5   618517650   \n",
      "23                     J.R.R. Tolkien           4.36   618346252   \n",
      "...                               ...            ...         ...   \n",
      "11046  Haruki Murakami/Philip Gabriel           4.14  1400043662   \n",
      "11047  Haruki Murakami/Philip Gabriel           3.83   375411690   \n",
      "11066                     Paul Auster           3.89   140097368   \n",
      "11084                  Philip Pullman           4.13   807210471   \n",
      "11100       Jack Kerouac/Ann Charters           3.63   142437255   \n",
      "\n",
      "              isbn13 language_code num_pages  ratings_count  \\\n",
      "9      9780000000000           eng       215           4930   \n",
      "12     9780000000000           eng       544         248558   \n",
      "13     9780000000000           eng        55           7270   \n",
      "22     9780000000000           eng      1184           1710   \n",
      "23     9780000000000           eng       398        2128944   \n",
      "...              ...           ...       ...            ...   \n",
      "11046  9780000000000         en-US       436           1989   \n",
      "11047  9780000000000           eng       210            582   \n",
      "11066  9780000000000         en-US       192             62   \n",
      "11084  9780000000000           eng         8             39   \n",
      "11100  9780000000000         en-US       307           3271   \n",
      "\n",
      "       text_reviews_count     publication_date                  publisher  \n",
      "9                     460  2004-08-03 00:00:00                      Crown  \n",
      "12                   9396  2004-09-14 00:00:00             Broadway Books  \n",
      "13                    499  2002-12-03 00:00:00             Broadway Books  \n",
      "22                     91  2004-10-21 00:00:00  Houghton Mifflin Harcourt  \n",
      "23                  13670  2003-09-05 00:00:00  Houghton Mifflin Harcourt  \n",
      "...                   ...                  ...                        ...  \n",
      "11046                 315  2005-01-26 00:00:00     Knopf Publishing Group  \n",
      "11047                  92  2001-04-24 00:00:00            Alfred A. Knopf  \n",
      "11066                   3  1988-01-05 00:00:00              Penguin Books  \n",
      "11084                   8  2000-01-28 00:00:00          Listening Library  \n",
      "11100                 342  2006-01-03 00:00:00           Penguin Classics  \n",
      "\n",
      "[574 rows x 12 columns]\n",
      "1262\n"
     ]
    }
   ],
   "source": [
    "#find duplicated books existing in the dataset, filter by book title and author\n",
    "duplicated_records = df[df.duplicated(subset=['title', 'authors'], keep=False)]\n",
    "num_duplicated_records = df['title'].duplicated(keep=False).sum()\n",
    "print(duplicated_records)\n",
    "print(num_duplicated_records)"
   ]
  },
  {
   "cell_type": "code",
   "execution_count": 7,
   "id": "3b406097",
   "metadata": {},
   "outputs": [
    {
     "name": "stdout",
     "output_type": "stream",
     "text": [
      "Number of rows after filtered 10816\n"
     ]
    }
   ],
   "source": [
    "#for duplicated record, only keep the record with the highest number of ratings_count\n",
    "sorted_df = df.sort_values(by='ratings_count', ascending=False)\n",
    "duplicated_mask = sorted_df.duplicated(subset=['title', 'authors'], keep='first')\n",
    "filtered_df = sorted_df[~duplicated_mask]\n",
    "num_rows_filtered = len(filtered_df.index)\n",
    "print(\"Number of rows after filtered\", num_rows_filtered)"
   ]
  },
  {
   "cell_type": "code",
   "execution_count": 8,
   "id": "aa1e0b89",
   "metadata": {},
   "outputs": [
    {
     "name": "stdout",
     "output_type": "stream",
     "text": [
      "eng              8679\n",
      "en-US            1360\n",
      "spa               207\n",
      "en-GB             198\n",
      "fre               140\n",
      "ger                96\n",
      "jpn                46\n",
      "mul                19\n",
      "zho                14\n",
      "grc                11\n",
      "por                10\n",
      "en-CA               7\n",
      "ita                 5\n",
      "9780000000000       4\n",
      "enm                 3\n",
      "lat                 3\n",
      "swe                 2\n",
      "rus                 2\n",
      "tur                 1\n",
      "ara                 1\n",
      "ale                 1\n",
      "nor                 1\n",
      "nl                  1\n",
      "glg                 1\n",
      "msa                 1\n",
      "gla                 1\n",
      "wel                 1\n",
      "srp                 1\n",
      "Name: language_code, dtype: int64\n"
     ]
    }
   ],
   "source": [
    "#from now on, I will only use the filtered dataframe for analysis, in total 10816 books\n",
    "#count how many languages of books involved\n",
    "language_counts = filtered_df['language_code'].value_counts()\n",
    "print(language_counts)"
   ]
  },
  {
   "cell_type": "code",
   "execution_count": 9,
   "id": "2c01a6c4",
   "metadata": {},
   "outputs": [
    {
     "name": "stdout",
     "output_type": "stream",
     "text": [
      "      bookID                                              title  \\\n",
      "4702   16914                  The Tolkien Fan's Medieval Reader   \n",
      "5877   22128                     Patriots (The Coming Collapse)   \n",
      "3348   12224  Streetcar Suburbs: The Process of Growth in Bo...   \n",
      "8979   34889  Brown's Star Atlas: Showing All The Bright Sta...   \n",
      "\n",
      "                                       authors  \\\n",
      "4702  David E. Smith (Turgon of TheOneRing.net   \n",
      "5877                              James Wesley   \n",
      "3348                           Sam Bass Warner   \n",
      "8979                                     Brown   \n",
      "\n",
      "                                         average_rating  isbn      isbn13  \\\n",
      "4702   one of the founding members of this Tolkien w...  3.58  1593600119   \n",
      "5877                                             Rawles  3.63  156384155X   \n",
      "3348                                  Jr./Sam B. Warner  3.58   674842111   \n",
      "8979                                     Son & Ferguson     0   851742718   \n",
      "\n",
      "      language_code num_pages  ratings_count  text_reviews_count  \\\n",
      "4702  9780000000000       eng            400                  26   \n",
      "5877  9780000000000       eng            342                  38   \n",
      "3348  9780000000000     en-US            236                  61   \n",
      "8979  9780000000000       eng             49                   0   \n",
      "\n",
      "     publication_date            publisher  \n",
      "4702                4  2004-04-06 00:00:00  \n",
      "5877                4  1999-01-15 00:00:00  \n",
      "3348                6  2004-04-20 00:00:00  \n",
      "8979                0  1977-05-01 00:00:00  \n"
     ]
    }
   ],
   "source": [
    "#search for rows with the language code being 9780000000000 \n",
    "rows_with_wrong_language = filtered_df[filtered_df['language_code'] == 9780000000000]\n",
    "print(rows_with_wrong_language)"
   ]
  },
  {
   "cell_type": "code",
   "execution_count": 10,
   "id": "7ff4153e",
   "metadata": {},
   "outputs": [
    {
     "name": "stdout",
     "output_type": "stream",
     "text": [
      "      bookID                                              title  \\\n",
      "4702   16914                  The Tolkien Fan's Medieval Reader   \n",
      "5877   22128                     Patriots (The Coming Collapse)   \n",
      "3348   12224  Streetcar Suburbs: The Process of Growth in Bo...   \n",
      "8979   34889  Brown's Star Atlas: Showing All The Bright Sta...   \n",
      "\n",
      "                                       authors average_rating        isbn  \\\n",
      "4702  David E. Smith (Turgon of TheOneRing.net           3.58  1593600119   \n",
      "5877                              James Wesley           3.63  156384155X   \n",
      "3348                           Sam Bass Warner           3.58   674842111   \n",
      "8979                                     Brown              0   851742718   \n",
      "\n",
      "             isbn13 language_code  num_pages  ratings_count  \\\n",
      "4702  9780000000000           eng        400             26   \n",
      "5877  9780000000000           eng        342             38   \n",
      "3348  9780000000000         en-US        236             61   \n",
      "8979  9780000000000           eng         49              0   \n",
      "\n",
      "     text_reviews_count     publication_date            publisher  \n",
      "4702                  4  2004-04-06 00:00:00  2004-04-06 00:00:00  \n",
      "5877                  4  1999-01-15 00:00:00  1999-01-15 00:00:00  \n",
      "3348                  6  2004-04-20 00:00:00  2004-04-20 00:00:00  \n",
      "8979                  0  1977-05-01 00:00:00  1977-05-01 00:00:00  \n"
     ]
    },
    {
     "name": "stderr",
     "output_type": "stream",
     "text": [
      "C:\\Users\\yama4971\\AppData\\Local\\Temp\\ipykernel_7244\\3209200227.py:2: SettingWithCopyWarning: \n",
      "A value is trying to be set on a copy of a slice from a DataFrame.\n",
      "Try using .loc[row_indexer,col_indexer] = value instead\n",
      "\n",
      "See the caveats in the documentation: https://pandas.pydata.org/pandas-docs/stable/user_guide/indexing.html#returning-a-view-versus-a-copy\n",
      "  rows_with_wrong_language['average_rating'] = np.nan\n",
      "C:\\Users\\yama4971\\AppData\\Local\\Temp\\ipykernel_7244\\3209200227.py:4: SettingWithCopyWarning: \n",
      "A value is trying to be set on a copy of a slice from a DataFrame.\n",
      "Try using .loc[row_indexer,col_indexer] = value instead\n",
      "\n",
      "See the caveats in the documentation: https://pandas.pydata.org/pandas-docs/stable/user_guide/indexing.html#returning-a-view-versus-a-copy\n",
      "  rows_with_wrong_language.iloc[:, col - 1] = rows_with_wrong_language.iloc[:, col]\n",
      "C:\\Users\\yama4971\\AppData\\Local\\Temp\\ipykernel_7244\\3209200227.py:4: DeprecationWarning: In a future version, `df.iloc[:, i] = newvals` will attempt to set the values inplace instead of always setting a new array. To retain the old behavior, use either `df[df.columns[i]] = newvals` or, if columns are non-unique, `df.isetitem(i, newvals)`\n",
      "  rows_with_wrong_language.iloc[:, col - 1] = rows_with_wrong_language.iloc[:, col]\n"
     ]
    }
   ],
   "source": [
    "#these four records have wrong inputs. need to delete one column and then move all the columns behind one step forward\n",
    "rows_with_wrong_language['average_rating'] = np.nan\n",
    "for col in range(4, len(rows_with_wrong_language.columns)):\n",
    "    rows_with_wrong_language.iloc[:, col - 1] = rows_with_wrong_language.iloc[:, col]\n",
    "print(rows_with_wrong_language)"
   ]
  },
  {
   "cell_type": "code",
   "execution_count": 11,
   "id": "4e48757e",
   "metadata": {},
   "outputs": [
    {
     "name": "stdout",
     "output_type": "stream",
     "text": [
      "[4702, 5877, 3348, 8979]\n",
      "     bookID           title                        authors average_rating  \\\n",
      "986    3348  The Cod's Tale  Mark Kurlansky/S.D. Schindler           3.91   \n",
      "\n",
      "          isbn         isbn13 language_code num_pages  ratings_count  \\\n",
      "986  399234764  9780000000000           eng        48            127   \n",
      "\n",
      "     text_reviews_count     publication_date  \\\n",
      "986                  25  2001-09-10 00:00:00   \n",
      "\n",
      "                                      publisher  \n",
      "986  G.P. Putnam's Sons Books for Young Readers  \n"
     ]
    }
   ],
   "source": [
    "#copy the updated record back to the dtaframe used for analysis\n",
    "up_filtered_df = filtered_df.copy()\n",
    "index_values = rows_with_wrong_language.index.tolist()\n",
    "print(index_values)\n",
    "for row in index_values:\n",
    "    up_filtered_df.loc[row] = rows_with_wrong_language.loc[row]\n",
    "print(up_filtered_df[up_filtered_df['bookID']==3348])"
   ]
  },
  {
   "cell_type": "markdown",
   "id": "3b544749",
   "metadata": {},
   "source": [
    "## desciptive plot of the dataset"
   ]
  },
  {
   "cell_type": "code",
   "execution_count": 12,
   "id": "a9806a6d",
   "metadata": {},
   "outputs": [
    {
     "data": {
      "text/plain": [
       "{datetime.datetime, str}"
      ]
     },
     "execution_count": 12,
     "metadata": {},
     "output_type": "execute_result"
    }
   ],
   "source": [
    "# check the data type in the column of 'publication_date'\n",
    "set(up_filtered_df['publication_date'].apply(type))\n",
    "# there is wrong data type, probably wrong date input"
   ]
  },
  {
   "cell_type": "code",
   "execution_count": 23,
   "id": "50cc8e40",
   "metadata": {},
   "outputs": [
    {
     "name": "stdout",
     "output_type": "stream",
     "text": [
      "2005-12-14 00:00:00\n",
      "       bookID                                              title  \\\n",
      "10340   41865                            Twilight (Twilight  #1)   \n",
      "1697     5907                The Hobbit  or There and Back Again   \n",
      "1462     5107                             The Catcher in the Rye   \n",
      "307       960               Angels & Demons (Robert Langdon  #1)   \n",
      "3           5  Harry Potter and the Prisoner of Azkaban (Harr...   \n",
      "4416    15881  Harry Potter and the Chamber of Secrets (Harry...   \n",
      "1           2  Harry Potter and the Order of the Phoenix (Har...   \n",
      "23         34  The Fellowship of the Ring (The Lord of the Ri...   \n",
      "2114     7613                                        Animal Farm   \n",
      "0           1  Harry Potter and the Half-Blood Prince (Harry ...   \n",
      "2116     7624                                  Lord of the Flies   \n",
      "5017    18135                                   Romeo and Juliet   \n",
      "7312    28187  The Lightning Thief (Percy Jackson and the Oly...   \n",
      "294       890                                    Of Mice and Men   \n",
      "310       968             The Da Vinci Code (Robert Langdon  #2)   \n",
      "284       865                                      The Alchemist   \n",
      "1069     3636                          The Giver (The Giver  #1)   \n",
      "5272    19063                                     The Book Thief   \n",
      "591      1934                                       Little Women   \n",
      "2764    10210                                          Jane Eyre   \n",
      "5409    19501                                    Eat  Pray  Love   \n",
      "299       930                                Memoirs of a Geisha   \n",
      "6425    24178                                    Charlotte's Web   \n",
      "10704   43641                                Water for Elephants   \n",
      "1467     5129                                    Brave New World   \n",
      "4431    15931                    The Notebook (The Notebook  #1)   \n",
      "514      1618  The Curious Incident of the Dog in the Night-Time   \n",
      "898      2956  The Adventures of Huckleberry Finn (Adventures...   \n",
      "9437    37435                            The Secret Life of Bees   \n",
      "1430     4981                                Slaughterhouse-Five   \n",
      "5095    18405                                 Gone with the Wind   \n",
      "2951    10917                                 My Sister's Keeper   \n",
      "3156    11588                                        The Shining   \n",
      "9701    38709                                  Holes (Holes  #1)   \n",
      "2060     7445                                   The Glass Castle   \n",
      "566      1845                                      Into the Wild   \n",
      "4798    17245                                            Dracula   \n",
      "910      2998                                  The Secret Garden   \n",
      "410      1381                                        The Odyssey   \n",
      "1524     5297                         The Picture of Dorian Gray   \n",
      "1475     5139  The Devil Wears Prada (The Devil Wears Prada  #1)   \n",
      "5820    21787                                 The Princess Bride   \n",
      "2959    10964                          Outlander (Outlander  #1)   \n",
      "6515    24583  The Adventures of Tom Sawyer (Adventures of To...   \n",
      "\n",
      "                                                 authors average_rating  \\\n",
      "10340                                    Stephenie Meyer           3.59   \n",
      "1697                                      J.R.R. Tolkien           4.27   \n",
      "1462                                       J.D. Salinger            3.8   \n",
      "307                                            Dan Brown           3.89   \n",
      "3                            J.K. Rowling/Mary GrandPrÃ©           4.56   \n",
      "4416                         J.K. Rowling/Mary GrandPrÃ©           4.42   \n",
      "1                            J.K. Rowling/Mary GrandPrÃ©           4.49   \n",
      "23                                        J.R.R. Tolkien           4.36   \n",
      "2114            George Orwell/Boris Grabnar/Peter Å kerl           3.93   \n",
      "0                            J.K. Rowling/Mary GrandPrÃ©           4.57   \n",
      "2116                                     William Golding           3.68   \n",
      "5017   William Shakespeare/Paul Werstine/Barbara A. M...           3.74   \n",
      "7312                                        Rick Riordan           4.25   \n",
      "294                                       John Steinbeck           3.87   \n",
      "310                                            Dan Brown           3.84   \n",
      "284           Paulo Coelho/Alan R. Clarke/Ã–zdemir Ä°nce           3.86   \n",
      "1069                                          Lois Lowry           4.13   \n",
      "5272              Markus Zusak/Cao XuÃ¢n Viá»‡t KhÆ°Æ¡ng           4.37   \n",
      "591                                    Louisa May Alcott           4.07   \n",
      "2764                     Charlotte BrontÃ«/Michael Mason           4.12   \n",
      "5409                                   Elizabeth Gilbert           3.55   \n",
      "299                                        Arthur Golden           4.11   \n",
      "6425            E.B. White/Garth Williams/Rosemary Wells           4.17   \n",
      "10704                                         Sara Gruen           4.09   \n",
      "1467                                       Aldous Huxley           3.99   \n",
      "4431                                     Nicholas Sparks           4.09   \n",
      "514                                          Mark Haddon           3.88   \n",
      "898     Mark Twain/Guy Cardwell/John Seelye/Walter Trier           3.82   \n",
      "9437                                       Sue Monk Kidd           4.05   \n",
      "1430                                   Kurt Vonnegut Jr.           4.07   \n",
      "5095                                   Margaret Mitchell           4.29   \n",
      "2951                                        Jodi Picoult           4.07   \n",
      "3156                                        Stephen King           4.22   \n",
      "9701                                        Louis Sachar           3.96   \n",
      "2060                                     Jeannette Walls           4.27   \n",
      "566                                         Jon Krakauer           3.98   \n",
      "4798             Bram Stoker/Nina Auerbach/David J. Skal           3.99   \n",
      "910                              Frances Hodgson Burnett           4.13   \n",
      "410                     Homer/Robert Fagles/Bernard Knox           3.76   \n",
      "1524                       Oscar Wilde/Jeffrey Eugenides           4.08   \n",
      "1475                                   Lauren Weisberger           3.74   \n",
      "5820                                     William Goldman           4.26   \n",
      "2959                                      Diana Gabaldon           4.23   \n",
      "6515                 Mark Twain/Guy Cardwell/John Seelye           3.91   \n",
      "\n",
      "             isbn         isbn13 language_code num_pages  ratings_count  \\\n",
      "10340   316015849  9780000000000           eng       501        4597666   \n",
      "1697    618260307  9780000000000           eng       366        2530894   \n",
      "1462    316769177  9780000000000           eng       277        2457092   \n",
      "307    1416524797  9780000000000           eng       736        2418736   \n",
      "3      043965548X  9780000000000           eng       435        2339585   \n",
      "4416    439064864  9780000000000           eng       341        2293963   \n",
      "1       439358078  9780000000000           eng       870        2153167   \n",
      "23      618346252  9780000000000           eng       398        2128944   \n",
      "2114    452284244  9780000000000           eng       122        2111750   \n",
      "0       439785960  9780000000000           eng       652        2095690   \n",
      "2116    140283331  9780000000000           eng       182        2036679   \n",
      "5017    743477111  9780000000000           eng       368        1893917   \n",
      "7312    786838655  9780000000000           eng       375        1766725   \n",
      "294     142000671  9780000000000           eng       103        1755253   \n",
      "310     307277674  9780000000000           eng       489        1679706   \n",
      "284      61122416  9780000000000           eng       197        1631221   \n",
      "1069    385732554  9780000000000           eng       208        1585589   \n",
      "5272    375831002  9780000000000           eng       552        1516367   \n",
      "591     451529308  9780000000000           eng       449        1479727   \n",
      "2764    142437204  9780000000000           eng       532        1409369   \n",
      "5409    143038419  9780000000000           eng       368        1362264   \n",
      "299     739326228  9780000000000           eng       434        1301083   \n",
      "6425     64410935  9780000000000           eng       184        1300470   \n",
      "10704  1565125606  9780000000000           eng       335        1260027   \n",
      "1467     60929871  9780000000000           eng       288        1247221   \n",
      "4431    553816713  9780000000000           eng       214        1090603   \n",
      "514    1400032717  9780000000000           eng       226        1054308   \n",
      "898     142437174  9780000000000           eng       327        1049912   \n",
      "9437    142001740  9780000000000           eng       302        1044725   \n",
      "1430    385333846  9780000000000           eng       275        1001671   \n",
      "5095    446675539  9780000000000           eng      1037         999139   \n",
      "2951    743454537  9780000000000           eng       423         986711   \n",
      "3156    450040186  9780000000000           eng       659         978535   \n",
      "9701    439244196  9780000000000           eng       233         887554   \n",
      "2060   074324754X  9780000000000           eng       288         808656   \n",
      "566     385486804  9780000000000           eng       207         800349   \n",
      "4798    393970124  9780000000000           eng       488         774987   \n",
      "910     517189607  9780000000000           eng       331         764134   \n",
      "410     143039954  9780000000000           eng       541         760871   \n",
      "1524    375751513  9780000000000           eng       272         760717   \n",
      "1475    307275558  9780000000000           eng       432         744569   \n",
      "5820    345418263  9780000000000           eng       456         703676   \n",
      "2959    440242940  9780000000000           eng       850         673350   \n",
      "6515    143039563  9780000000000           eng       244         667590   \n",
      "\n",
      "       text_reviews_count     publication_date  \\\n",
      "10340               94265  2006-09-06 00:00:00   \n",
      "1697                32871  2002-08-15 00:00:00   \n",
      "1462                43499  2001-01-30 00:00:00   \n",
      "307                 21303  2006-04-01 00:00:00   \n",
      "3                   36325  2004-05-01 00:00:00   \n",
      "4416                34692  1999-06-02 00:00:00   \n",
      "1                   29221  2004-09-01 00:00:00   \n",
      "23                  13670  2003-09-05 00:00:00   \n",
      "2114                29677  2003-05-06 00:00:00   \n",
      "0                   27591  2006-09-16 00:00:00   \n",
      "2116                26199  1999-10-01 00:00:00   \n",
      "5017                14637  2004-01-01 00:00:00   \n",
      "7312                47951  2006-03-01 00:00:00   \n",
      "294                 25554  2002-01-08 00:00:00   \n",
      "310                 35877  2006-03-28 00:00:00   \n",
      "284                 55843  1993-05-01 00:00:00   \n",
      "1069                56604  2006-01-24 00:00:00   \n",
      "5272                86881  2006-03-14 00:00:00   \n",
      "591                 18458  2004-04-06 00:00:00   \n",
      "2764                27884  2003-02-04 00:00:00   \n",
      "5409                47620  2007-02-01 00:00:00   \n",
      "299                 19296  2005-11-15 00:00:00   \n",
      "6425                14739  2001-10-01 00:00:00   \n",
      "10704               52759  2007-05-01 00:00:00   \n",
      "1467                20014  1998-09-01 00:00:00   \n",
      "4431                15272  2004-07-05 00:00:00   \n",
      "514                 35537  2004-05-18 00:00:00   \n",
      "898                 11391  2002-12-31 00:00:00   \n",
      "9437                26279  2003-01-28 00:00:00   \n",
      "1430                19056  1999-01-12 00:00:00   \n",
      "5095                15323  1999-04-01 00:00:00   \n",
      "2951                29652  2005-02-01 00:00:00   \n",
      "3156                15105  1980-07-01 00:00:00   \n",
      "9701                17547  2000-09-02 00:00:00   \n",
      "2060                46176  2006-01-17 00:00:00   \n",
      "566                 18198  1997-01-20 00:00:00   \n",
      "4798                14944  1986-05-12 00:00:00   \n",
      "910                 11796  1998-09-01 00:00:00   \n",
      "410                  6557  2006-11-30 00:00:00   \n",
      "1524                17179  2004-06-01 00:00:00   \n",
      "1475                 7247  2006-05-30 00:00:00   \n",
      "5820                13878  2003-07-15 00:00:00   \n",
      "2959                34690  2005-07-26 00:00:00   \n",
      "6515                 6783  2006-02-28 00:00:00   \n",
      "\n",
      "                                      publisher  \n",
      "10340                 Little  Brown and Company  \n",
      "1697                           Houghton Mifflin  \n",
      "1462                             Back Bay Books  \n",
      "307                                Pocket Books  \n",
      "3                               Scholastic Inc.  \n",
      "4416   Arthur A. Levine Books / Scholastic Inc.  \n",
      "1                               Scholastic Inc.  \n",
      "23                    Houghton Mifflin Harcourt  \n",
      "2114                                        NAL  \n",
      "0                               Scholastic Inc.  \n",
      "2116                              Penguin Books  \n",
      "5017                             Simon Schuster  \n",
      "7312                      Disney Hyperion Books  \n",
      "294                               Penguin Books  \n",
      "310                                      Anchor  \n",
      "284                               HarperCollins  \n",
      "1069                                      Ember  \n",
      "5272                            Alfred A. Knopf  \n",
      "591                             Signet Classics  \n",
      "2764                                    Penguin  \n",
      "5409                            Riverhead Books  \n",
      "299         Random House Large Print Publishing  \n",
      "6425                    HarperCollinsPublishers  \n",
      "10704                           Algonquin Books  \n",
      "1467       HarperPerennial / Perennial Classics  \n",
      "4431                                     Bantam  \n",
      "514                                     Vintage  \n",
      "898                            Penguin Classics  \n",
      "9437                              Penguin Books  \n",
      "1430                                 Dial Press  \n",
      "5095                               Warner Books  \n",
      "2951                    Washington Square Press  \n",
      "3156   New English Library (Hodder & Stoughton)  \n",
      "9701                                 Scholastic  \n",
      "2060                                   Scribner  \n",
      "566                                Anchor Books  \n",
      "4798                                     Norton  \n",
      "910                         Children's Classics  \n",
      "410                            Penguin Classics  \n",
      "1524               Random House: Modern Library  \n",
      "1475                               Anchor Books  \n",
      "5820                           Ballantine Books  \n",
      "2959                    Dell Publishing Company  \n",
      "6515                           Penguin Classics  \n",
      "0\n",
      "1\n",
      "2\n",
      "3\n",
      "4\n",
      "5\n",
      "6\n",
      "7\n",
      "8\n",
      "9\n",
      "10\n",
      "11\n",
      "12\n",
      "13\n",
      "14\n",
      "15\n",
      "16\n",
      "17\n",
      "18\n",
      "19\n",
      "20\n",
      "21\n",
      "22\n",
      "23\n",
      "24\n",
      "25\n",
      "26\n",
      "27\n",
      "28\n",
      "29\n",
      "30\n",
      "31\n",
      "32\n",
      "33\n",
      "34\n",
      "35\n",
      "36\n",
      "37\n",
      "38\n",
      "39\n",
      "40\n",
      "41\n"
     ]
    },
    {
     "ename": "KeyError",
     "evalue": "41",
     "output_type": "error",
     "traceback": [
      "\u001b[1;31m---------------------------------------------------------------------------\u001b[0m",
      "\u001b[1;31mKeyError\u001b[0m                                  Traceback (most recent call last)",
      "File \u001b[1;32m~\\AppData\\Local\\anaconda3\\lib\\site-packages\\pandas\\core\\indexes\\base.py:3802\u001b[0m, in \u001b[0;36mIndex.get_loc\u001b[1;34m(self, key, method, tolerance)\u001b[0m\n\u001b[0;32m   3801\u001b[0m \u001b[38;5;28;01mtry\u001b[39;00m:\n\u001b[1;32m-> 3802\u001b[0m     \u001b[38;5;28;01mreturn\u001b[39;00m \u001b[38;5;28;43mself\u001b[39;49m\u001b[38;5;241;43m.\u001b[39;49m\u001b[43m_engine\u001b[49m\u001b[38;5;241;43m.\u001b[39;49m\u001b[43mget_loc\u001b[49m\u001b[43m(\u001b[49m\u001b[43mcasted_key\u001b[49m\u001b[43m)\u001b[49m\n\u001b[0;32m   3803\u001b[0m \u001b[38;5;28;01mexcept\u001b[39;00m \u001b[38;5;167;01mKeyError\u001b[39;00m \u001b[38;5;28;01mas\u001b[39;00m err:\n",
      "File \u001b[1;32m~\\AppData\\Local\\anaconda3\\lib\\site-packages\\pandas\\_libs\\index.pyx:138\u001b[0m, in \u001b[0;36mpandas._libs.index.IndexEngine.get_loc\u001b[1;34m()\u001b[0m\n",
      "File \u001b[1;32m~\\AppData\\Local\\anaconda3\\lib\\site-packages\\pandas\\_libs\\index.pyx:165\u001b[0m, in \u001b[0;36mpandas._libs.index.IndexEngine.get_loc\u001b[1;34m()\u001b[0m\n",
      "File \u001b[1;32mpandas\\_libs\\hashtable_class_helper.pxi:2263\u001b[0m, in \u001b[0;36mpandas._libs.hashtable.Int64HashTable.get_item\u001b[1;34m()\u001b[0m\n",
      "File \u001b[1;32mpandas\\_libs\\hashtable_class_helper.pxi:2273\u001b[0m, in \u001b[0;36mpandas._libs.hashtable.Int64HashTable.get_item\u001b[1;34m()\u001b[0m\n",
      "\u001b[1;31mKeyError\u001b[0m: 41",
      "\nThe above exception was the direct cause of the following exception:\n",
      "\u001b[1;31mKeyError\u001b[0m                                  Traceback (most recent call last)",
      "Cell \u001b[1;32mIn[23], line 7\u001b[0m\n\u001b[0;32m      5\u001b[0m \u001b[38;5;28;01mfor\u001b[39;00m i \u001b[38;5;129;01min\u001b[39;00m \u001b[38;5;28mrange\u001b[39m(\u001b[38;5;241m0\u001b[39m,\u001b[38;5;28mlen\u001b[39m(up_filtered_df[\u001b[38;5;124m'\u001b[39m\u001b[38;5;124mpublication_date\u001b[39m\u001b[38;5;124m'\u001b[39m])):\n\u001b[0;32m      6\u001b[0m     \u001b[38;5;28mprint\u001b[39m(i)\n\u001b[1;32m----> 7\u001b[0m     \u001b[38;5;28;01mif\u001b[39;00m \u001b[38;5;28mtype\u001b[39m(\u001b[43mup_filtered_df\u001b[49m\u001b[38;5;241;43m.\u001b[39;49m\u001b[43mloc\u001b[49m\u001b[43m[\u001b[49m\u001b[43mi\u001b[49m\u001b[43m,\u001b[49m\u001b[38;5;124;43m'\u001b[39;49m\u001b[38;5;124;43mpublication_date\u001b[39;49m\u001b[38;5;124;43m'\u001b[39;49m\u001b[43m]\u001b[49m) \u001b[38;5;129;01mis\u001b[39;00m datetime\u001b[38;5;241m.\u001b[39mdatetime:\n\u001b[0;32m      8\u001b[0m         \u001b[38;5;28;01mcontinue\u001b[39;00m\n\u001b[0;32m      9\u001b[0m     \u001b[38;5;28;01melse\u001b[39;00m:\n",
      "File \u001b[1;32m~\\AppData\\Local\\anaconda3\\lib\\site-packages\\pandas\\core\\indexing.py:1066\u001b[0m, in \u001b[0;36m_LocationIndexer.__getitem__\u001b[1;34m(self, key)\u001b[0m\n\u001b[0;32m   1064\u001b[0m     key \u001b[38;5;241m=\u001b[39m \u001b[38;5;28mtuple\u001b[39m(com\u001b[38;5;241m.\u001b[39mapply_if_callable(x, \u001b[38;5;28mself\u001b[39m\u001b[38;5;241m.\u001b[39mobj) \u001b[38;5;28;01mfor\u001b[39;00m x \u001b[38;5;129;01min\u001b[39;00m key)\n\u001b[0;32m   1065\u001b[0m     \u001b[38;5;28;01mif\u001b[39;00m \u001b[38;5;28mself\u001b[39m\u001b[38;5;241m.\u001b[39m_is_scalar_access(key):\n\u001b[1;32m-> 1066\u001b[0m         \u001b[38;5;28;01mreturn\u001b[39;00m \u001b[38;5;28;43mself\u001b[39;49m\u001b[38;5;241;43m.\u001b[39;49m\u001b[43mobj\u001b[49m\u001b[38;5;241;43m.\u001b[39;49m\u001b[43m_get_value\u001b[49m\u001b[43m(\u001b[49m\u001b[38;5;241;43m*\u001b[39;49m\u001b[43mkey\u001b[49m\u001b[43m,\u001b[49m\u001b[43m \u001b[49m\u001b[43mtakeable\u001b[49m\u001b[38;5;241;43m=\u001b[39;49m\u001b[38;5;28;43mself\u001b[39;49m\u001b[38;5;241;43m.\u001b[39;49m\u001b[43m_takeable\u001b[49m\u001b[43m)\u001b[49m\n\u001b[0;32m   1067\u001b[0m     \u001b[38;5;28;01mreturn\u001b[39;00m \u001b[38;5;28mself\u001b[39m\u001b[38;5;241m.\u001b[39m_getitem_tuple(key)\n\u001b[0;32m   1068\u001b[0m \u001b[38;5;28;01melse\u001b[39;00m:\n\u001b[0;32m   1069\u001b[0m     \u001b[38;5;66;03m# we by definition only have the 0th axis\u001b[39;00m\n",
      "File \u001b[1;32m~\\AppData\\Local\\anaconda3\\lib\\site-packages\\pandas\\core\\frame.py:3924\u001b[0m, in \u001b[0;36mDataFrame._get_value\u001b[1;34m(self, index, col, takeable)\u001b[0m\n\u001b[0;32m   3918\u001b[0m engine \u001b[38;5;241m=\u001b[39m \u001b[38;5;28mself\u001b[39m\u001b[38;5;241m.\u001b[39mindex\u001b[38;5;241m.\u001b[39m_engine\n\u001b[0;32m   3920\u001b[0m \u001b[38;5;28;01mif\u001b[39;00m \u001b[38;5;129;01mnot\u001b[39;00m \u001b[38;5;28misinstance\u001b[39m(\u001b[38;5;28mself\u001b[39m\u001b[38;5;241m.\u001b[39mindex, MultiIndex):\n\u001b[0;32m   3921\u001b[0m     \u001b[38;5;66;03m# CategoricalIndex: Trying to use the engine fastpath may give incorrect\u001b[39;00m\n\u001b[0;32m   3922\u001b[0m     \u001b[38;5;66;03m#  results if our categories are integers that dont match our codes\u001b[39;00m\n\u001b[0;32m   3923\u001b[0m     \u001b[38;5;66;03m# IntervalIndex: IntervalTree has no get_loc\u001b[39;00m\n\u001b[1;32m-> 3924\u001b[0m     row \u001b[38;5;241m=\u001b[39m \u001b[38;5;28;43mself\u001b[39;49m\u001b[38;5;241;43m.\u001b[39;49m\u001b[43mindex\u001b[49m\u001b[38;5;241;43m.\u001b[39;49m\u001b[43mget_loc\u001b[49m\u001b[43m(\u001b[49m\u001b[43mindex\u001b[49m\u001b[43m)\u001b[49m\n\u001b[0;32m   3925\u001b[0m     \u001b[38;5;28;01mreturn\u001b[39;00m series\u001b[38;5;241m.\u001b[39m_values[row]\n\u001b[0;32m   3927\u001b[0m \u001b[38;5;66;03m# For MultiIndex going through engine effectively restricts us to\u001b[39;00m\n\u001b[0;32m   3928\u001b[0m \u001b[38;5;66;03m#  same-length tuples; see test_get_set_value_no_partial_indexing\u001b[39;00m\n",
      "File \u001b[1;32m~\\AppData\\Local\\anaconda3\\lib\\site-packages\\pandas\\core\\indexes\\base.py:3804\u001b[0m, in \u001b[0;36mIndex.get_loc\u001b[1;34m(self, key, method, tolerance)\u001b[0m\n\u001b[0;32m   3802\u001b[0m     \u001b[38;5;28;01mreturn\u001b[39;00m \u001b[38;5;28mself\u001b[39m\u001b[38;5;241m.\u001b[39m_engine\u001b[38;5;241m.\u001b[39mget_loc(casted_key)\n\u001b[0;32m   3803\u001b[0m \u001b[38;5;28;01mexcept\u001b[39;00m \u001b[38;5;167;01mKeyError\u001b[39;00m \u001b[38;5;28;01mas\u001b[39;00m err:\n\u001b[1;32m-> 3804\u001b[0m     \u001b[38;5;28;01mraise\u001b[39;00m \u001b[38;5;167;01mKeyError\u001b[39;00m(key) \u001b[38;5;28;01mfrom\u001b[39;00m \u001b[38;5;21;01merr\u001b[39;00m\n\u001b[0;32m   3805\u001b[0m \u001b[38;5;28;01mexcept\u001b[39;00m \u001b[38;5;167;01mTypeError\u001b[39;00m:\n\u001b[0;32m   3806\u001b[0m     \u001b[38;5;66;03m# If we have a listlike key, _check_indexing_error will raise\u001b[39;00m\n\u001b[0;32m   3807\u001b[0m     \u001b[38;5;66;03m#  InvalidIndexError. Otherwise we fall through and re-raise\u001b[39;00m\n\u001b[0;32m   3808\u001b[0m     \u001b[38;5;66;03m#  the TypeError.\u001b[39;00m\n\u001b[0;32m   3809\u001b[0m     \u001b[38;5;28mself\u001b[39m\u001b[38;5;241m.\u001b[39m_check_indexing_error(key)\n",
      "\u001b[1;31mKeyError\u001b[0m: 41"
     ]
    }
   ],
   "source": [
    "#find cells that are not datetime type\n",
    "import datetime\n",
    "print(up_filtered_df.loc[43,'publication_date'])\n",
    "print(up_filtered_df.head(44))\n",
    "for i in range(0,len(up_filtered_df['publication_date'])):\n",
    "    print(i)\n",
    "    if type(up_filtered_df.loc[i,'publication_date']) is datetime.datetime:\n",
    "        continue\n",
    "    else:\n",
    "        print(i,up_filtered_df.loc[i,'publication_date'])\n",
    "        \n",
    "        #update the index after filtering"
   ]
  },
  {
   "cell_type": "code",
   "execution_count": null,
   "id": "0a8078ca",
   "metadata": {},
   "outputs": [],
   "source": [
    "\n",
    "'''\n",
    "up_filtered_df[up_filtered_df['publication_date'] == \"11/31/2000\"]\n",
    "from datetime import date\n",
    "up_filtered_df.at[8180,\"publication_date\"] == date(2000, 11, 30)\n",
    "print(up_filtered_df.loc[8180])\n",
    "up_filtered_df['year'] = pd.to_datetime(up_filtered_df['publication_date']).dt.year\n",
    "year_counts = up_filtered_df['year'].value_counts().sort_index()\n",
    "'''"
   ]
  }
 ],
 "metadata": {
  "kernelspec": {
   "display_name": "Python 3 (ipykernel)",
   "language": "python",
   "name": "python3"
  },
  "language_info": {
   "codemirror_mode": {
    "name": "ipython",
    "version": 3
   },
   "file_extension": ".py",
   "mimetype": "text/x-python",
   "name": "python",
   "nbconvert_exporter": "python",
   "pygments_lexer": "ipython3",
   "version": "3.10.9"
  }
 },
 "nbformat": 4,
 "nbformat_minor": 5
}
